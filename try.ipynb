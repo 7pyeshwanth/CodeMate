{
 "cells": [
  {
   "cell_type": "code",
   "execution_count": 1,
   "metadata": {},
   "outputs": [],
   "source": [
    "import time"
   ]
  },
  {
   "cell_type": "code",
   "execution_count": 118,
   "metadata": {},
   "outputs": [
    {
     "data": {
      "text/plain": [
       "1728197502"
      ]
     },
     "execution_count": 118,
     "metadata": {},
     "output_type": "execute_result"
    }
   ],
   "source": [
    "int(time.time())\n"
   ]
  },
  {
   "cell_type": "code",
   "execution_count": 120,
   "metadata": {},
   "outputs": [],
   "source": [
    "import json\n",
    "with open('log.json', 'r+') as f:\n",
    "    data = json.load(f)\n",
    "    data['timestamp'] = int(time.time())\n",
    "    f.seek(0)\n",
    "    json.dump(data, f)\n",
    "    f.truncate()"
   ]
  },
  {
   "cell_type": "code",
   "execution_count": 1,
   "metadata": {},
   "outputs": [],
   "source": [
    "import json"
   ]
  },
  {
   "cell_type": "code",
   "execution_count": 5,
   "metadata": {},
   "outputs": [],
   "source": [
    "with open('users.json', 'r') as f:\n",
    "  f.seek(0)\n",
    "  if f.read(1):\n",
    "    f.seek(0)\n",
    "    usersf = json.load(f)\n",
    "  else:\n",
    "    usersf = {}\n",
    "\n"
   ]
  },
  {
   "cell_type": "code",
   "execution_count": null,
   "metadata": {},
   "outputs": [],
   "source": [
    "u = {f\"\"\"</td>\"\"\" if tags else ''}"
   ]
  },
  {
   "cell_type": "code",
   "execution_count": 7,
   "metadata": {},
   "outputs": [
    {
     "data": {
      "application/vnd.plotly.v1+json": {
       "config": {
        "plotlyServerURL": "https://plot.ly"
       },
       "data": [
        {
         "hoverinfo": "text",
         "hovertext": [
          "Contest: Educational Codeforces Round 150 (Rated for Div. 2)<br>Rank: 10919<br>Old Rating: 0<br>New Rating: 392",
          "Contest: Codeforces Round 880 (Div. 2)<br>Rank: 10563<br>Old Rating: 392<br>New Rating: 607"
         ],
         "mode": "lines+markers",
         "name": "7yeshwanth",
         "type": "scatter",
         "x": [
          "2023-06-12T22:05:00",
          "2023-06-18T22:05:00"
         ],
         "y": [
          392,
          607
         ]
        },
        {
         "hoverinfo": "text",
         "hovertext": [
          "Contest: Educational Codeforces Round 150 (Rated for Div. 2)<br>Rank: 12000<br>Old Rating: 100<br>New Rating: 400",
          "Contest: Codeforces Round 880 (Div. 2)<br>Rank: 10500<br>Old Rating: 400<br>New Rating: 620"
         ],
         "mode": "lines+markers",
         "name": "user2",
         "type": "scatter",
         "x": [
          "2023-06-12T22:05:00",
          "2023-06-18T22:05:00"
         ],
         "y": [
          400,
          620
         ]
        }
       ],
       "layout": {
        "showlegend": true,
        "template": {
         "data": {
          "bar": [
           {
            "error_x": {
             "color": "#2a3f5f"
            },
            "error_y": {
             "color": "#2a3f5f"
            },
            "marker": {
             "line": {
              "color": "#E5ECF6",
              "width": 0.5
             },
             "pattern": {
              "fillmode": "overlay",
              "size": 10,
              "solidity": 0.2
             }
            },
            "type": "bar"
           }
          ],
          "barpolar": [
           {
            "marker": {
             "line": {
              "color": "#E5ECF6",
              "width": 0.5
             },
             "pattern": {
              "fillmode": "overlay",
              "size": 10,
              "solidity": 0.2
             }
            },
            "type": "barpolar"
           }
          ],
          "carpet": [
           {
            "aaxis": {
             "endlinecolor": "#2a3f5f",
             "gridcolor": "white",
             "linecolor": "white",
             "minorgridcolor": "white",
             "startlinecolor": "#2a3f5f"
            },
            "baxis": {
             "endlinecolor": "#2a3f5f",
             "gridcolor": "white",
             "linecolor": "white",
             "minorgridcolor": "white",
             "startlinecolor": "#2a3f5f"
            },
            "type": "carpet"
           }
          ],
          "choropleth": [
           {
            "colorbar": {
             "outlinewidth": 0,
             "ticks": ""
            },
            "type": "choropleth"
           }
          ],
          "contour": [
           {
            "colorbar": {
             "outlinewidth": 0,
             "ticks": ""
            },
            "colorscale": [
             [
              0,
              "#0d0887"
             ],
             [
              0.1111111111111111,
              "#46039f"
             ],
             [
              0.2222222222222222,
              "#7201a8"
             ],
             [
              0.3333333333333333,
              "#9c179e"
             ],
             [
              0.4444444444444444,
              "#bd3786"
             ],
             [
              0.5555555555555556,
              "#d8576b"
             ],
             [
              0.6666666666666666,
              "#ed7953"
             ],
             [
              0.7777777777777778,
              "#fb9f3a"
             ],
             [
              0.8888888888888888,
              "#fdca26"
             ],
             [
              1,
              "#f0f921"
             ]
            ],
            "type": "contour"
           }
          ],
          "contourcarpet": [
           {
            "colorbar": {
             "outlinewidth": 0,
             "ticks": ""
            },
            "type": "contourcarpet"
           }
          ],
          "heatmap": [
           {
            "colorbar": {
             "outlinewidth": 0,
             "ticks": ""
            },
            "colorscale": [
             [
              0,
              "#0d0887"
             ],
             [
              0.1111111111111111,
              "#46039f"
             ],
             [
              0.2222222222222222,
              "#7201a8"
             ],
             [
              0.3333333333333333,
              "#9c179e"
             ],
             [
              0.4444444444444444,
              "#bd3786"
             ],
             [
              0.5555555555555556,
              "#d8576b"
             ],
             [
              0.6666666666666666,
              "#ed7953"
             ],
             [
              0.7777777777777778,
              "#fb9f3a"
             ],
             [
              0.8888888888888888,
              "#fdca26"
             ],
             [
              1,
              "#f0f921"
             ]
            ],
            "type": "heatmap"
           }
          ],
          "heatmapgl": [
           {
            "colorbar": {
             "outlinewidth": 0,
             "ticks": ""
            },
            "colorscale": [
             [
              0,
              "#0d0887"
             ],
             [
              0.1111111111111111,
              "#46039f"
             ],
             [
              0.2222222222222222,
              "#7201a8"
             ],
             [
              0.3333333333333333,
              "#9c179e"
             ],
             [
              0.4444444444444444,
              "#bd3786"
             ],
             [
              0.5555555555555556,
              "#d8576b"
             ],
             [
              0.6666666666666666,
              "#ed7953"
             ],
             [
              0.7777777777777778,
              "#fb9f3a"
             ],
             [
              0.8888888888888888,
              "#fdca26"
             ],
             [
              1,
              "#f0f921"
             ]
            ],
            "type": "heatmapgl"
           }
          ],
          "histogram": [
           {
            "marker": {
             "pattern": {
              "fillmode": "overlay",
              "size": 10,
              "solidity": 0.2
             }
            },
            "type": "histogram"
           }
          ],
          "histogram2d": [
           {
            "colorbar": {
             "outlinewidth": 0,
             "ticks": ""
            },
            "colorscale": [
             [
              0,
              "#0d0887"
             ],
             [
              0.1111111111111111,
              "#46039f"
             ],
             [
              0.2222222222222222,
              "#7201a8"
             ],
             [
              0.3333333333333333,
              "#9c179e"
             ],
             [
              0.4444444444444444,
              "#bd3786"
             ],
             [
              0.5555555555555556,
              "#d8576b"
             ],
             [
              0.6666666666666666,
              "#ed7953"
             ],
             [
              0.7777777777777778,
              "#fb9f3a"
             ],
             [
              0.8888888888888888,
              "#fdca26"
             ],
             [
              1,
              "#f0f921"
             ]
            ],
            "type": "histogram2d"
           }
          ],
          "histogram2dcontour": [
           {
            "colorbar": {
             "outlinewidth": 0,
             "ticks": ""
            },
            "colorscale": [
             [
              0,
              "#0d0887"
             ],
             [
              0.1111111111111111,
              "#46039f"
             ],
             [
              0.2222222222222222,
              "#7201a8"
             ],
             [
              0.3333333333333333,
              "#9c179e"
             ],
             [
              0.4444444444444444,
              "#bd3786"
             ],
             [
              0.5555555555555556,
              "#d8576b"
             ],
             [
              0.6666666666666666,
              "#ed7953"
             ],
             [
              0.7777777777777778,
              "#fb9f3a"
             ],
             [
              0.8888888888888888,
              "#fdca26"
             ],
             [
              1,
              "#f0f921"
             ]
            ],
            "type": "histogram2dcontour"
           }
          ],
          "mesh3d": [
           {
            "colorbar": {
             "outlinewidth": 0,
             "ticks": ""
            },
            "type": "mesh3d"
           }
          ],
          "parcoords": [
           {
            "line": {
             "colorbar": {
              "outlinewidth": 0,
              "ticks": ""
             }
            },
            "type": "parcoords"
           }
          ],
          "pie": [
           {
            "automargin": true,
            "type": "pie"
           }
          ],
          "scatter": [
           {
            "fillpattern": {
             "fillmode": "overlay",
             "size": 10,
             "solidity": 0.2
            },
            "type": "scatter"
           }
          ],
          "scatter3d": [
           {
            "line": {
             "colorbar": {
              "outlinewidth": 0,
              "ticks": ""
             }
            },
            "marker": {
             "colorbar": {
              "outlinewidth": 0,
              "ticks": ""
             }
            },
            "type": "scatter3d"
           }
          ],
          "scattercarpet": [
           {
            "marker": {
             "colorbar": {
              "outlinewidth": 0,
              "ticks": ""
             }
            },
            "type": "scattercarpet"
           }
          ],
          "scattergeo": [
           {
            "marker": {
             "colorbar": {
              "outlinewidth": 0,
              "ticks": ""
             }
            },
            "type": "scattergeo"
           }
          ],
          "scattergl": [
           {
            "marker": {
             "colorbar": {
              "outlinewidth": 0,
              "ticks": ""
             }
            },
            "type": "scattergl"
           }
          ],
          "scattermapbox": [
           {
            "marker": {
             "colorbar": {
              "outlinewidth": 0,
              "ticks": ""
             }
            },
            "type": "scattermapbox"
           }
          ],
          "scatterpolar": [
           {
            "marker": {
             "colorbar": {
              "outlinewidth": 0,
              "ticks": ""
             }
            },
            "type": "scatterpolar"
           }
          ],
          "scatterpolargl": [
           {
            "marker": {
             "colorbar": {
              "outlinewidth": 0,
              "ticks": ""
             }
            },
            "type": "scatterpolargl"
           }
          ],
          "scatterternary": [
           {
            "marker": {
             "colorbar": {
              "outlinewidth": 0,
              "ticks": ""
             }
            },
            "type": "scatterternary"
           }
          ],
          "surface": [
           {
            "colorbar": {
             "outlinewidth": 0,
             "ticks": ""
            },
            "colorscale": [
             [
              0,
              "#0d0887"
             ],
             [
              0.1111111111111111,
              "#46039f"
             ],
             [
              0.2222222222222222,
              "#7201a8"
             ],
             [
              0.3333333333333333,
              "#9c179e"
             ],
             [
              0.4444444444444444,
              "#bd3786"
             ],
             [
              0.5555555555555556,
              "#d8576b"
             ],
             [
              0.6666666666666666,
              "#ed7953"
             ],
             [
              0.7777777777777778,
              "#fb9f3a"
             ],
             [
              0.8888888888888888,
              "#fdca26"
             ],
             [
              1,
              "#f0f921"
             ]
            ],
            "type": "surface"
           }
          ],
          "table": [
           {
            "cells": {
             "fill": {
              "color": "#EBF0F8"
             },
             "line": {
              "color": "white"
             }
            },
            "header": {
             "fill": {
              "color": "#C8D4E3"
             },
             "line": {
              "color": "white"
             }
            },
            "type": "table"
           }
          ]
         },
         "layout": {
          "annotationdefaults": {
           "arrowcolor": "#2a3f5f",
           "arrowhead": 0,
           "arrowwidth": 1
          },
          "autotypenumbers": "strict",
          "coloraxis": {
           "colorbar": {
            "outlinewidth": 0,
            "ticks": ""
           }
          },
          "colorscale": {
           "diverging": [
            [
             0,
             "#8e0152"
            ],
            [
             0.1,
             "#c51b7d"
            ],
            [
             0.2,
             "#de77ae"
            ],
            [
             0.3,
             "#f1b6da"
            ],
            [
             0.4,
             "#fde0ef"
            ],
            [
             0.5,
             "#f7f7f7"
            ],
            [
             0.6,
             "#e6f5d0"
            ],
            [
             0.7,
             "#b8e186"
            ],
            [
             0.8,
             "#7fbc41"
            ],
            [
             0.9,
             "#4d9221"
            ],
            [
             1,
             "#276419"
            ]
           ],
           "sequential": [
            [
             0,
             "#0d0887"
            ],
            [
             0.1111111111111111,
             "#46039f"
            ],
            [
             0.2222222222222222,
             "#7201a8"
            ],
            [
             0.3333333333333333,
             "#9c179e"
            ],
            [
             0.4444444444444444,
             "#bd3786"
            ],
            [
             0.5555555555555556,
             "#d8576b"
            ],
            [
             0.6666666666666666,
             "#ed7953"
            ],
            [
             0.7777777777777778,
             "#fb9f3a"
            ],
            [
             0.8888888888888888,
             "#fdca26"
            ],
            [
             1,
             "#f0f921"
            ]
           ],
           "sequentialminus": [
            [
             0,
             "#0d0887"
            ],
            [
             0.1111111111111111,
             "#46039f"
            ],
            [
             0.2222222222222222,
             "#7201a8"
            ],
            [
             0.3333333333333333,
             "#9c179e"
            ],
            [
             0.4444444444444444,
             "#bd3786"
            ],
            [
             0.5555555555555556,
             "#d8576b"
            ],
            [
             0.6666666666666666,
             "#ed7953"
            ],
            [
             0.7777777777777778,
             "#fb9f3a"
            ],
            [
             0.8888888888888888,
             "#fdca26"
            ],
            [
             1,
             "#f0f921"
            ]
           ]
          },
          "colorway": [
           "#636efa",
           "#EF553B",
           "#00cc96",
           "#ab63fa",
           "#FFA15A",
           "#19d3f3",
           "#FF6692",
           "#B6E880",
           "#FF97FF",
           "#FECB52"
          ],
          "font": {
           "color": "#2a3f5f"
          },
          "geo": {
           "bgcolor": "white",
           "lakecolor": "white",
           "landcolor": "#E5ECF6",
           "showlakes": true,
           "showland": true,
           "subunitcolor": "white"
          },
          "hoverlabel": {
           "align": "left"
          },
          "hovermode": "closest",
          "mapbox": {
           "style": "light"
          },
          "paper_bgcolor": "white",
          "plot_bgcolor": "#E5ECF6",
          "polar": {
           "angularaxis": {
            "gridcolor": "white",
            "linecolor": "white",
            "ticks": ""
           },
           "bgcolor": "#E5ECF6",
           "radialaxis": {
            "gridcolor": "white",
            "linecolor": "white",
            "ticks": ""
           }
          },
          "scene": {
           "xaxis": {
            "backgroundcolor": "#E5ECF6",
            "gridcolor": "white",
            "gridwidth": 2,
            "linecolor": "white",
            "showbackground": true,
            "ticks": "",
            "zerolinecolor": "white"
           },
           "yaxis": {
            "backgroundcolor": "#E5ECF6",
            "gridcolor": "white",
            "gridwidth": 2,
            "linecolor": "white",
            "showbackground": true,
            "ticks": "",
            "zerolinecolor": "white"
           },
           "zaxis": {
            "backgroundcolor": "#E5ECF6",
            "gridcolor": "white",
            "gridwidth": 2,
            "linecolor": "white",
            "showbackground": true,
            "ticks": "",
            "zerolinecolor": "white"
           }
          },
          "shapedefaults": {
           "line": {
            "color": "#2a3f5f"
           }
          },
          "ternary": {
           "aaxis": {
            "gridcolor": "white",
            "linecolor": "white",
            "ticks": ""
           },
           "baxis": {
            "gridcolor": "white",
            "linecolor": "white",
            "ticks": ""
           },
           "bgcolor": "#E5ECF6",
           "caxis": {
            "gridcolor": "white",
            "linecolor": "white",
            "ticks": ""
           }
          },
          "title": {
           "x": 0.05
          },
          "xaxis": {
           "automargin": true,
           "gridcolor": "white",
           "linecolor": "white",
           "ticks": "",
           "title": {
            "standoff": 15
           },
           "zerolinecolor": "white",
           "zerolinewidth": 2
          },
          "yaxis": {
           "automargin": true,
           "gridcolor": "white",
           "linecolor": "white",
           "ticks": "",
           "title": {
            "standoff": 15
           },
           "zerolinecolor": "white",
           "zerolinewidth": 2
          }
         }
        },
        "title": {
         "text": "Codeforces Rating Progress for Multiple Users"
        },
        "xaxis": {
         "title": {
          "text": "Date"
         }
        },
        "yaxis": {
         "title": {
          "text": "Rating"
         }
        }
       }
      }
     },
     "metadata": {},
     "output_type": "display_data"
    }
   ],
   "source": [
    "import plotly.graph_objects as go\n",
    "from datetime import datetime\n",
    "\n",
    "# Data for multiple users (example with 2 users)\n",
    "data = [\n",
    "    {\n",
    "        \"handle\": \"7yeshwanth\",\n",
    "        \"results\": [\n",
    "            {\"contestId\": 1841, \"contestName\": \"Educational Codeforces Round 150 (Rated for Div. 2)\",\n",
    "             \"rank\": 10919, \"ratingUpdateTimeSeconds\": 1686587700, \"oldRating\": 0, \"newRating\": 392},\n",
    "            {\"contestId\": 1836, \"contestName\": \"Codeforces Round 880 (Div. 2)\", \"rank\": 10563,\n",
    "             \"ratingUpdateTimeSeconds\": 1687106100, \"oldRating\": 392, \"newRating\": 607},\n",
    "            # Additional contests for 7yeshwanth...\n",
    "        ]\n",
    "    },\n",
    "    {\n",
    "        \"handle\": \"user2\",\n",
    "        \"results\": [\n",
    "            {\"contestId\": 1841, \"contestName\": \"Educational Codeforces Round 150 (Rated for Div. 2)\",\n",
    "             \"rank\": 12000, \"ratingUpdateTimeSeconds\": 1686587700, \"oldRating\": 100, \"newRating\": 400},\n",
    "            {\"contestId\": 1836, \"contestName\": \"Codeforces Round 880 (Div. 2)\", \"rank\": 10500,\n",
    "             \"ratingUpdateTimeSeconds\": 1687106100, \"oldRating\": 400, \"newRating\": 620},\n",
    "            # Additional contests for user2...\n",
    "        ]\n",
    "    }\n",
    "]\n",
    "\n",
    "# Create the plot\n",
    "fig = go.Figure()\n",
    "\n",
    "# Loop through each user's data and add a trace for each\n",
    "for user in data:\n",
    "    handle = user[\"handle\"]\n",
    "    contests = user[\"results\"]\n",
    "\n",
    "    timestamps = [datetime.fromtimestamp(\n",
    "        item[\"ratingUpdateTimeSeconds\"]) for item in contests]\n",
    "    new_ratings = [item[\"newRating\"] for item in contests]\n",
    "    hover_text = [\n",
    "        f\"Contest: {item['contestName']}<br>\"\n",
    "        f\"Rank: {item['rank']}<br>\"\n",
    "        f\"Old Rating: {item['oldRating']}<br>\"\n",
    "        f\"New Rating: {item['newRating']}\"\n",
    "        for item in contests\n",
    "    ]\n",
    "\n",
    "    # Add trace for each user\n",
    "    fig.add_trace(go.Scatter(\n",
    "        x=timestamps,\n",
    "        y=new_ratings,\n",
    "        mode='lines+markers',\n",
    "        name=handle,  # Different trace for each user\n",
    "        hovertext=hover_text,\n",
    "        hoverinfo=\"text\"\n",
    "    ))\n",
    "\n",
    "# Adding titles and labels\n",
    "fig.update_layout(\n",
    "    title=\"Codeforces Rating Progress for Multiple Users\",\n",
    "    xaxis_title=\"Date\",\n",
    "    yaxis_title=\"Rating\",\n",
    "    showlegend=True\n",
    ")\n",
    "\n",
    "# Show the plot\n",
    "fig.show()"
   ]
  },
  {
   "cell_type": "code",
   "execution_count": 11,
   "metadata": {},
   "outputs": [],
   "source": []
  },
  {
   "cell_type": "code",
   "execution_count": null,
   "metadata": {},
   "outputs": [],
   "source": [
    "{\n",
    "    \"country\": \"India\",\n",
    "    \"lastOnlineTimeSeconds\": 1728197648,\n",
    "    \"rating\": 984,\n",
    "    \"friendOfCount\": 2,\n",
    "    \"titlePhoto\": \"https://userpic.codeforces.org/no-title.jpg\",\n",
    "    \"handle\": \"7yeshwanth\",\n",
    "    \"avatar\": \"https://userpic.codeforces.org/no-avatar.jpg\",\n",
    "    \"contribution\": 0,\n",
    "    \"organization\": \"\",\n",
    "    \"rank\": \"newbie\",\n",
    "    \"maxRating\": 1056,\n",
    "    \"registrationTimeSeconds\": 1684756057,\n",
    "    \"maxRank\": \"newbie\"\n",
    "}"
   ]
  },
  {
   "cell_type": "code",
   "execution_count": 12,
   "metadata": {},
   "outputs": [
    {
     "name": "stdout",
     "output_type": "stream",
     "text": [
      "7yeshwanth 1\n",
      "{'status': 'OK', 'result': [{'contestId': 1841, 'contestName': 'Educational Codeforces Round 150 (Rated for Div. 2)', 'handle': '7yeshwanth', 'rank': 10919, 'ratingUpdateTimeSeconds': 1686587700, 'oldRating': 0, 'newRating': 392}, {'contestId': 1836, 'contestName': 'Codeforces Round 880 (Div. 2)', 'handle': '7yeshwanth', 'rank': 10563, 'ratingUpdateTimeSeconds': 1687106100, 'oldRating': 392, 'newRating': 607}, {'contestId': 1846, 'contestName': 'Codeforces Round 883 (Div. 3)', 'handle': '7yeshwanth', 'rank': 9962, 'ratingUpdateTimeSeconds': 1688748600, 'oldRating': 607, 'newRating': 816}, {'contestId': 1844, 'contestName': 'Codeforces Round 884 (Div. 1 + Div. 2)', 'handle': '7yeshwanth', 'rank': 11832, 'ratingUpdateTimeSeconds': 1689096900, 'oldRating': 816, 'newRating': 902}, {'contestId': 1850, 'contestName': 'Codeforces Round 886 (Div. 4)', 'handle': '7yeshwanth', 'rank': 13966, 'ratingUpdateTimeSeconds': 1689957300, 'oldRating': 902, 'newRating': 947}, {'contestId': 1855, 'contestName': 'Codeforces Round 889 (Div. 2)', 'handle': '7yeshwanth', 'rank': 6829, 'ratingUpdateTimeSeconds': 1690650300, 'oldRating': 947, 'newRating': 1056}, {'contestId': 1856, 'contestName': 'Codeforces Round 890 (Div. 2) supported by Constructor Institute', 'handle': '7yeshwanth', 'rank': 10546, 'ratingUpdateTimeSeconds': 1691253300, 'oldRating': 1056, 'newRating': 1032}, {'contestId': 1857, 'contestName': 'Codeforces Round 891 (Div. 3)', 'handle': '7yeshwanth', 'rank': 15205, 'ratingUpdateTimeSeconds': 1691427000, 'oldRating': 1032, 'newRating': 989}, {'contestId': 1882, 'contestName': 'Codeforces Round 899 (Div. 2)', 'handle': '7yeshwanth', 'rank': 8571, 'ratingUpdateTimeSeconds': 1695659700, 'oldRating': 989, 'newRating': 1005}, {'contestId': 1878, 'contestName': 'Codeforces Round 900 (Div. 3)', 'handle': '7yeshwanth', 'rank': 12175, 'ratingUpdateTimeSeconds': 1695747000, 'oldRating': 1005, 'newRating': 996}, {'contestId': 1886, 'contestName': 'Educational Codeforces Round 156 (Rated for Div. 2)', 'handle': '7yeshwanth', 'rank': 9624, 'ratingUpdateTimeSeconds': 1696869300, 'oldRating': 996, 'newRating': 984}]}\n",
      "Yeshwanth. 1\n",
      "{'status': 'OK', 'result': [{'contestId': 1692, 'contestName': 'Codeforces Round 799 (Div. 4)', 'handle': 'Yeshwanth.', 'rank': 18408, 'ratingUpdateTimeSeconds': 1655225400, 'oldRating': 0, 'newRating': 357}, {'contestId': 1719, 'contestName': 'Codeforces Round 814 (Div. 2)', 'handle': 'Yeshwanth.', 'rank': 12336, 'ratingUpdateTimeSeconds': 1660667700, 'oldRating': 357, 'newRating': 596}, {'contestId': 1721, 'contestName': 'Educational Codeforces Round 134 (Rated for Div. 2)', 'handle': 'Yeshwanth.', 'rank': 11091, 'ratingUpdateTimeSeconds': 1661618100, 'oldRating': 596, 'newRating': 764}, {'contestId': 1722, 'contestName': 'Codeforces Round 817 (Div. 4)', 'handle': 'Yeshwanth.', 'rank': 15406, 'ratingUpdateTimeSeconds': 1661879100, 'oldRating': 764, 'newRating': 827}, {'contestId': 1717, 'contestName': 'Codeforces Round 818 (Div. 2)', 'handle': 'Yeshwanth.', 'rank': 9248, 'ratingUpdateTimeSeconds': 1662136500, 'oldRating': 827, 'newRating': 821}, {'contestId': 1739, 'contestName': 'Educational Codeforces Round 136 (Rated for Div. 2)', 'handle': 'Yeshwanth.', 'rank': 10549, 'ratingUpdateTimeSeconds': 1664469300, 'oldRating': 821, 'newRating': 842}, {'contestId': 1736, 'contestName': 'Codeforces Round 825 (Div. 2)', 'handle': 'Yeshwanth.', 'rank': 11117, 'ratingUpdateTimeSeconds': 1665419700, 'oldRating': 842, 'newRating': 820}, {'contestId': 1741, 'contestName': 'Codeforces Round 826 (Div. 3)', 'handle': 'Yeshwanth.', 'rank': 11353, 'ratingUpdateTimeSeconds': 1665507000, 'oldRating': 820, 'newRating': 824}]}\n",
      "{'7yeshwanth': [{'contestId': 1841, 'contestName': 'Educational Codeforces Round 150 (Rated for Div. 2)', 'handle': '7yeshwanth', 'rank': 10919, 'ratingUpdateTimeSeconds': 1686587700, 'oldRating': 0, 'newRating': 392}, {'contestId': 1836, 'contestName': 'Codeforces Round 880 (Div. 2)', 'handle': '7yeshwanth', 'rank': 10563, 'ratingUpdateTimeSeconds': 1687106100, 'oldRating': 392, 'newRating': 607}, {'contestId': 1846, 'contestName': 'Codeforces Round 883 (Div. 3)', 'handle': '7yeshwanth', 'rank': 9962, 'ratingUpdateTimeSeconds': 1688748600, 'oldRating': 607, 'newRating': 816}, {'contestId': 1844, 'contestName': 'Codeforces Round 884 (Div. 1 + Div. 2)', 'handle': '7yeshwanth', 'rank': 11832, 'ratingUpdateTimeSeconds': 1689096900, 'oldRating': 816, 'newRating': 902}, {'contestId': 1850, 'contestName': 'Codeforces Round 886 (Div. 4)', 'handle': '7yeshwanth', 'rank': 13966, 'ratingUpdateTimeSeconds': 1689957300, 'oldRating': 902, 'newRating': 947}, {'contestId': 1855, 'contestName': 'Codeforces Round 889 (Div. 2)', 'handle': '7yeshwanth', 'rank': 6829, 'ratingUpdateTimeSeconds': 1690650300, 'oldRating': 947, 'newRating': 1056}, {'contestId': 1856, 'contestName': 'Codeforces Round 890 (Div. 2) supported by Constructor Institute', 'handle': '7yeshwanth', 'rank': 10546, 'ratingUpdateTimeSeconds': 1691253300, 'oldRating': 1056, 'newRating': 1032}, {'contestId': 1857, 'contestName': 'Codeforces Round 891 (Div. 3)', 'handle': '7yeshwanth', 'rank': 15205, 'ratingUpdateTimeSeconds': 1691427000, 'oldRating': 1032, 'newRating': 989}, {'contestId': 1882, 'contestName': 'Codeforces Round 899 (Div. 2)', 'handle': '7yeshwanth', 'rank': 8571, 'ratingUpdateTimeSeconds': 1695659700, 'oldRating': 989, 'newRating': 1005}, {'contestId': 1878, 'contestName': 'Codeforces Round 900 (Div. 3)', 'handle': '7yeshwanth', 'rank': 12175, 'ratingUpdateTimeSeconds': 1695747000, 'oldRating': 1005, 'newRating': 996}, {'contestId': 1886, 'contestName': 'Educational Codeforces Round 156 (Rated for Div. 2)', 'handle': '7yeshwanth', 'rank': 9624, 'ratingUpdateTimeSeconds': 1696869300, 'oldRating': 996, 'newRating': 984}], 'Yeshwanth.': [{'contestId': 1692, 'contestName': 'Codeforces Round 799 (Div. 4)', 'handle': 'Yeshwanth.', 'rank': 18408, 'ratingUpdateTimeSeconds': 1655225400, 'oldRating': 0, 'newRating': 357}, {'contestId': 1719, 'contestName': 'Codeforces Round 814 (Div. 2)', 'handle': 'Yeshwanth.', 'rank': 12336, 'ratingUpdateTimeSeconds': 1660667700, 'oldRating': 357, 'newRating': 596}, {'contestId': 1721, 'contestName': 'Educational Codeforces Round 134 (Rated for Div. 2)', 'handle': 'Yeshwanth.', 'rank': 11091, 'ratingUpdateTimeSeconds': 1661618100, 'oldRating': 596, 'newRating': 764}, {'contestId': 1722, 'contestName': 'Codeforces Round 817 (Div. 4)', 'handle': 'Yeshwanth.', 'rank': 15406, 'ratingUpdateTimeSeconds': 1661879100, 'oldRating': 764, 'newRating': 827}, {'contestId': 1717, 'contestName': 'Codeforces Round 818 (Div. 2)', 'handle': 'Yeshwanth.', 'rank': 9248, 'ratingUpdateTimeSeconds': 1662136500, 'oldRating': 827, 'newRating': 821}, {'contestId': 1739, 'contestName': 'Educational Codeforces Round 136 (Rated for Div. 2)', 'handle': 'Yeshwanth.', 'rank': 10549, 'ratingUpdateTimeSeconds': 1664469300, 'oldRating': 821, 'newRating': 842}, {'contestId': 1736, 'contestName': 'Codeforces Round 825 (Div. 2)', 'handle': 'Yeshwanth.', 'rank': 11117, 'ratingUpdateTimeSeconds': 1665419700, 'oldRating': 842, 'newRating': 820}, {'contestId': 1741, 'contestName': 'Codeforces Round 826 (Div. 3)', 'handle': 'Yeshwanth.', 'rank': 11353, 'ratingUpdateTimeSeconds': 1665507000, 'oldRating': 820, 'newRating': 824}]}\n"
     ]
    }
   ],
   "source": []
  },
  {
   "cell_type": "code",
   "execution_count": null,
   "metadata": {},
   "outputs": [],
   "source": [
    "import plotly.graph_objects as go\n",
    "from datetime import datetime\n",
    "\n",
    "# Data for multiple users (example with 2 users)\n",
    "data = [\n",
    "    {\n",
    "        \"handle\": \"7yeshwanth\",\n",
    "        \"results\": [\n",
    "            {\"contestId\": 1841, \"contestName\": \"Educational Codeforces Round 150 (Rated for Div. 2)\",\n",
    "             \"rank\": 10919, \"ratingUpdateTimeSeconds\": 1686587700, \"oldRating\": 0, \"newRating\": 392},\n",
    "            {\"contestId\": 1836, \"contestName\": \"Codeforces Round 880 (Div. 2)\", \"rank\": 10563,\n",
    "             \"ratingUpdateTimeSeconds\": 1687106100, \"oldRating\": 392, \"newRating\": 607},\n",
    "            # Additional contests for 7yeshwanth...\n",
    "        ]\n",
    "    },\n",
    "    {\n",
    "        \"handle\": \"user2\",\n",
    "        \"results\": [\n",
    "            {\"contestId\": 1841, \"contestName\": \"Educational Codeforces Round 150 (Rated for Div. 2)\",\n",
    "             \"rank\": 12000, \"ratingUpdateTimeSeconds\": 1686587700, \"oldRating\": 100, \"newRating\": 400},\n",
    "            {\"contestId\": 1836, \"contestName\": \"Codeforces Round 880 (Div. 2)\", \"rank\": 10500,\n",
    "             \"ratingUpdateTimeSeconds\": 1687106100, \"oldRating\": 400, \"newRating\": 620},\n",
    "            # Additional contests for user2...\n",
    "        ]\n",
    "    }\n",
    "]\n",
    "\n",
    "# Create the plot\n",
    "fig = go.Figure()\n",
    "\n",
    "# Loop through each user's data and add a trace for each\n",
    "for user in data:\n",
    "    handle = user[\"handle\"]\n",
    "    contests = user[\"results\"]\n",
    "\n",
    "    timestamps = [datetime.fromtimestamp(\n",
    "        item[\"ratingUpdateTimeSeconds\"]) for item in contests]\n",
    "    new_ratings = [item[\"newRating\"] for item in contests]\n",
    "    hover_text = [\n",
    "        f\"<b>Contest:</b> {item['contestName']}<br>\"\n",
    "        f\"<b>Rank:</b> {item['rank']}<br>\"\n",
    "        f\"<b>Old Rating:</b> {item['oldRating']}<br>\"\n",
    "        f\"<b>New Rating:</b> {item['newRating']}\"\n",
    "        for item in contests\n",
    "    ]\n",
    "\n",
    "    # Add trace for each user with enhanced design\n",
    "    fig.add_trace(go.Scatter(\n",
    "        x=timestamps,\n",
    "        y=new_ratings,\n",
    "        mode='lines+markers',\n",
    "        name=handle,  # Different trace for each user\n",
    "        hovertext=hover_text,\n",
    "        hoverinfo=\"text\",\n",
    "        line=dict(width=2),  # Line width\n",
    "        marker=dict(size=8, symbol='circle', line=dict(\n",
    "            width=1, color='DarkSlateGrey')),  # Marker style\n",
    "    ))\n",
    "\n",
    "# Adding titles and labels with improved fonts\n",
    "fig.update_layout(\n",
    "    title=dict(\n",
    "        text=\"<b>Codeforces Rating Progress</b>\",\n",
    "        x=0.5,\n",
    "        font=dict(size=24, color='DarkSlateGrey')\n",
    "    ),\n",
    "    xaxis_title=\"<b>Date</b>\",\n",
    "    yaxis_title=\"<b>Rating</b>\",\n",
    "    showlegend=True,\n",
    "    legend=dict(\n",
    "        title=\"<b>Users</b>\",\n",
    "        orientation=\"h\",\n",
    "        yanchor=\"bottom\",\n",
    "        y=1.02,\n",
    "        xanchor=\"center\",\n",
    "        x=0.5\n",
    "    ),\n",
    "    plot_bgcolor=\"#f9f9f9\",  # Light background color\n",
    "    xaxis=dict(\n",
    "        showgrid=True,\n",
    "        gridcolor='lightgrey',\n",
    "        zerolinecolor='grey',\n",
    "        tickformat=\"%b %d, %Y\"\n",
    "    ),\n",
    "    yaxis=dict(\n",
    "        showgrid=True,\n",
    "        gridcolor='lightgrey',\n",
    "        zerolinecolor='grey'\n",
    "    )\n",
    ")\n",
    "\n",
    "# Show the plot\n",
    "fig.show()"
   ]
  },
  {
   "cell_type": "code",
   "execution_count": null,
   "metadata": {},
   "outputs": [],
   "source": [
    "import plotly.graph_objects as go\n",
    "from datetime import datetime\n",
    "\n",
    "# Data for multiple users (example with 2 users)\n",
    "data = [\n",
    "    {\n",
    "        \"handle\": \"7yeshwanth\",\n",
    "        \"results\": [\n",
    "            {\"contestId\": 1841, \"contestName\": \"Educational Codeforces Round 150 (Rated for Div. 2)\",\n",
    "             \"rank\": 10919, \"ratingUpdateTimeSeconds\": 1686587700, \"oldRating\": 0, \"newRating\": 392},\n",
    "            {\"contestId\": 1836, \"contestName\": \"Codeforces Round 880 (Div. 2)\", \"rank\": 10563,\n",
    "             \"ratingUpdateTimeSeconds\": 1687106100, \"oldRating\": 392, \"newRating\": 607},\n",
    "            # Additional contests for 7yeshwanth...\n",
    "        ]\n",
    "    },\n",
    "    {\n",
    "        \"handle\": \"user2\",\n",
    "        \"results\": [\n",
    "            {\"contestId\": 1841, \"contestName\": \"Educational Codeforces Round 150 (Rated for Div. 2)\",\n",
    "             \"rank\": 12000, \"ratingUpdateTimeSeconds\": 1686587700, \"oldRating\": 100, \"newRating\": 400},\n",
    "            {\"contestId\": 1836, \"contestName\": \"Codeforces Round 880 (Div. 2)\", \"rank\": 10500,\n",
    "             \"ratingUpdateTimeSeconds\": 1687106100, \"oldRating\": 400, \"newRating\": 620},\n",
    "            # Additional contests for user2...\n",
    "        ]\n",
    "    }\n",
    "]\n",
    "\n",
    "# Create the plot\n",
    "fig = go.Figure()\n",
    "\n",
    "# Loop through each user's data and add a trace for each\n",
    "for user in data:\n",
    "    handle = user[\"handle\"]\n",
    "    contests = user[\"results\"]\n",
    "\n",
    "    timestamps = [datetime.fromtimestamp(\n",
    "        item[\"ratingUpdateTimeSeconds\"]) for item in contests]\n",
    "    new_ratings = [item[\"newRating\"] for item in contests]\n",
    "    hover_text = [\n",
    "        f\"Contest: {item['contestName']}<br>\"\n",
    "        f\"Rank: {item['rank']}<br>\"\n",
    "        f\"Old Rating: {item['oldRating']}<br>\"\n",
    "        f\"New Rating: {item['newRating']}\"\n",
    "        for item in contests\n",
    "    ]\n",
    "\n",
    "    # Add trace for each user\n",
    "    fig.add_trace(go.Scatter(\n",
    "        x=timestamps,\n",
    "        y=new_ratings,\n",
    "        mode='lines+markers',\n",
    "        name=handle,  # Different trace for each user\n",
    "        hovertext=hover_text,\n",
    "        hoverinfo=\"text\"\n",
    "    ))\n",
    "\n",
    "# Adding titles and labels\n",
    "fig.update_layout(\n",
    "    title=\"Codeforces Rating Progress for Multiple Users\",\n",
    "    xaxis_title=\"Date\",\n",
    "    yaxis_title=\"Rating\",\n",
    "    showlegend=True\n",
    ")\n",
    "\n",
    "# Show the plot\n",
    "fig.show()"
   ]
  },
  {
   "cell_type": "code",
   "execution_count": 13,
   "metadata": {},
   "outputs": [
    {
     "data": {
      "application/vnd.plotly.v1+json": {
       "config": {
        "plotlyServerURL": "https://plot.ly"
       },
       "data": [
        {
         "hoverinfo": "text",
         "hovertext": [
          "<b>Contest:</b> Educational Codeforces Round 150 (Rated for Div. 2)<br><b>Rank:</b> 10919<br><b>Old Rating:</b> 0<br><b>New Rating:</b> 392",
          "<b>Contest:</b> Codeforces Round 880 (Div. 2)<br><b>Rank:</b> 10563<br><b>Old Rating:</b> 392<br><b>New Rating:</b> 607"
         ],
         "line": {
          "width": 2
         },
         "marker": {
          "line": {
           "color": "DarkSlateGrey",
           "width": 1
          },
          "size": 8,
          "symbol": "circle"
         },
         "mode": "lines+markers",
         "name": "7yeshwanth",
         "type": "scatter",
         "visible": true,
         "x": [
          "2023-06-12T22:05:00",
          "2023-06-18T22:05:00"
         ],
         "y": [
          392,
          607
         ]
        },
        {
         "hoverinfo": "text",
         "hovertext": [
          "<b>Contest:</b> Educational Codeforces Round 150 (Rated for Div. 2)<br><b>Rank:</b> 12000<br><b>Old Rating:</b> 100<br><b>New Rating:</b> 400",
          "<b>Contest:</b> Codeforces Round 880 (Div. 2)<br><b>Rank:</b> 10500<br><b>Old Rating:</b> 400<br><b>New Rating:</b> 620"
         ],
         "line": {
          "width": 2
         },
         "marker": {
          "line": {
           "color": "DarkSlateGrey",
           "width": 1
          },
          "size": 8,
          "symbol": "circle"
         },
         "mode": "lines+markers",
         "name": "user2",
         "type": "scatter",
         "visible": true,
         "x": [
          "2023-06-12T22:05:00",
          "2023-06-18T22:05:00"
         ],
         "y": [
          400,
          620
         ]
        }
       ],
       "layout": {
        "plot_bgcolor": "#f9f9f9",
        "showlegend": true,
        "template": {
         "data": {
          "bar": [
           {
            "error_x": {
             "color": "#2a3f5f"
            },
            "error_y": {
             "color": "#2a3f5f"
            },
            "marker": {
             "line": {
              "color": "#E5ECF6",
              "width": 0.5
             },
             "pattern": {
              "fillmode": "overlay",
              "size": 10,
              "solidity": 0.2
             }
            },
            "type": "bar"
           }
          ],
          "barpolar": [
           {
            "marker": {
             "line": {
              "color": "#E5ECF6",
              "width": 0.5
             },
             "pattern": {
              "fillmode": "overlay",
              "size": 10,
              "solidity": 0.2
             }
            },
            "type": "barpolar"
           }
          ],
          "carpet": [
           {
            "aaxis": {
             "endlinecolor": "#2a3f5f",
             "gridcolor": "white",
             "linecolor": "white",
             "minorgridcolor": "white",
             "startlinecolor": "#2a3f5f"
            },
            "baxis": {
             "endlinecolor": "#2a3f5f",
             "gridcolor": "white",
             "linecolor": "white",
             "minorgridcolor": "white",
             "startlinecolor": "#2a3f5f"
            },
            "type": "carpet"
           }
          ],
          "choropleth": [
           {
            "colorbar": {
             "outlinewidth": 0,
             "ticks": ""
            },
            "type": "choropleth"
           }
          ],
          "contour": [
           {
            "colorbar": {
             "outlinewidth": 0,
             "ticks": ""
            },
            "colorscale": [
             [
              0,
              "#0d0887"
             ],
             [
              0.1111111111111111,
              "#46039f"
             ],
             [
              0.2222222222222222,
              "#7201a8"
             ],
             [
              0.3333333333333333,
              "#9c179e"
             ],
             [
              0.4444444444444444,
              "#bd3786"
             ],
             [
              0.5555555555555556,
              "#d8576b"
             ],
             [
              0.6666666666666666,
              "#ed7953"
             ],
             [
              0.7777777777777778,
              "#fb9f3a"
             ],
             [
              0.8888888888888888,
              "#fdca26"
             ],
             [
              1,
              "#f0f921"
             ]
            ],
            "type": "contour"
           }
          ],
          "contourcarpet": [
           {
            "colorbar": {
             "outlinewidth": 0,
             "ticks": ""
            },
            "type": "contourcarpet"
           }
          ],
          "heatmap": [
           {
            "colorbar": {
             "outlinewidth": 0,
             "ticks": ""
            },
            "colorscale": [
             [
              0,
              "#0d0887"
             ],
             [
              0.1111111111111111,
              "#46039f"
             ],
             [
              0.2222222222222222,
              "#7201a8"
             ],
             [
              0.3333333333333333,
              "#9c179e"
             ],
             [
              0.4444444444444444,
              "#bd3786"
             ],
             [
              0.5555555555555556,
              "#d8576b"
             ],
             [
              0.6666666666666666,
              "#ed7953"
             ],
             [
              0.7777777777777778,
              "#fb9f3a"
             ],
             [
              0.8888888888888888,
              "#fdca26"
             ],
             [
              1,
              "#f0f921"
             ]
            ],
            "type": "heatmap"
           }
          ],
          "heatmapgl": [
           {
            "colorbar": {
             "outlinewidth": 0,
             "ticks": ""
            },
            "colorscale": [
             [
              0,
              "#0d0887"
             ],
             [
              0.1111111111111111,
              "#46039f"
             ],
             [
              0.2222222222222222,
              "#7201a8"
             ],
             [
              0.3333333333333333,
              "#9c179e"
             ],
             [
              0.4444444444444444,
              "#bd3786"
             ],
             [
              0.5555555555555556,
              "#d8576b"
             ],
             [
              0.6666666666666666,
              "#ed7953"
             ],
             [
              0.7777777777777778,
              "#fb9f3a"
             ],
             [
              0.8888888888888888,
              "#fdca26"
             ],
             [
              1,
              "#f0f921"
             ]
            ],
            "type": "heatmapgl"
           }
          ],
          "histogram": [
           {
            "marker": {
             "pattern": {
              "fillmode": "overlay",
              "size": 10,
              "solidity": 0.2
             }
            },
            "type": "histogram"
           }
          ],
          "histogram2d": [
           {
            "colorbar": {
             "outlinewidth": 0,
             "ticks": ""
            },
            "colorscale": [
             [
              0,
              "#0d0887"
             ],
             [
              0.1111111111111111,
              "#46039f"
             ],
             [
              0.2222222222222222,
              "#7201a8"
             ],
             [
              0.3333333333333333,
              "#9c179e"
             ],
             [
              0.4444444444444444,
              "#bd3786"
             ],
             [
              0.5555555555555556,
              "#d8576b"
             ],
             [
              0.6666666666666666,
              "#ed7953"
             ],
             [
              0.7777777777777778,
              "#fb9f3a"
             ],
             [
              0.8888888888888888,
              "#fdca26"
             ],
             [
              1,
              "#f0f921"
             ]
            ],
            "type": "histogram2d"
           }
          ],
          "histogram2dcontour": [
           {
            "colorbar": {
             "outlinewidth": 0,
             "ticks": ""
            },
            "colorscale": [
             [
              0,
              "#0d0887"
             ],
             [
              0.1111111111111111,
              "#46039f"
             ],
             [
              0.2222222222222222,
              "#7201a8"
             ],
             [
              0.3333333333333333,
              "#9c179e"
             ],
             [
              0.4444444444444444,
              "#bd3786"
             ],
             [
              0.5555555555555556,
              "#d8576b"
             ],
             [
              0.6666666666666666,
              "#ed7953"
             ],
             [
              0.7777777777777778,
              "#fb9f3a"
             ],
             [
              0.8888888888888888,
              "#fdca26"
             ],
             [
              1,
              "#f0f921"
             ]
            ],
            "type": "histogram2dcontour"
           }
          ],
          "mesh3d": [
           {
            "colorbar": {
             "outlinewidth": 0,
             "ticks": ""
            },
            "type": "mesh3d"
           }
          ],
          "parcoords": [
           {
            "line": {
             "colorbar": {
              "outlinewidth": 0,
              "ticks": ""
             }
            },
            "type": "parcoords"
           }
          ],
          "pie": [
           {
            "automargin": true,
            "type": "pie"
           }
          ],
          "scatter": [
           {
            "fillpattern": {
             "fillmode": "overlay",
             "size": 10,
             "solidity": 0.2
            },
            "type": "scatter"
           }
          ],
          "scatter3d": [
           {
            "line": {
             "colorbar": {
              "outlinewidth": 0,
              "ticks": ""
             }
            },
            "marker": {
             "colorbar": {
              "outlinewidth": 0,
              "ticks": ""
             }
            },
            "type": "scatter3d"
           }
          ],
          "scattercarpet": [
           {
            "marker": {
             "colorbar": {
              "outlinewidth": 0,
              "ticks": ""
             }
            },
            "type": "scattercarpet"
           }
          ],
          "scattergeo": [
           {
            "marker": {
             "colorbar": {
              "outlinewidth": 0,
              "ticks": ""
             }
            },
            "type": "scattergeo"
           }
          ],
          "scattergl": [
           {
            "marker": {
             "colorbar": {
              "outlinewidth": 0,
              "ticks": ""
             }
            },
            "type": "scattergl"
           }
          ],
          "scattermapbox": [
           {
            "marker": {
             "colorbar": {
              "outlinewidth": 0,
              "ticks": ""
             }
            },
            "type": "scattermapbox"
           }
          ],
          "scatterpolar": [
           {
            "marker": {
             "colorbar": {
              "outlinewidth": 0,
              "ticks": ""
             }
            },
            "type": "scatterpolar"
           }
          ],
          "scatterpolargl": [
           {
            "marker": {
             "colorbar": {
              "outlinewidth": 0,
              "ticks": ""
             }
            },
            "type": "scatterpolargl"
           }
          ],
          "scatterternary": [
           {
            "marker": {
             "colorbar": {
              "outlinewidth": 0,
              "ticks": ""
             }
            },
            "type": "scatterternary"
           }
          ],
          "surface": [
           {
            "colorbar": {
             "outlinewidth": 0,
             "ticks": ""
            },
            "colorscale": [
             [
              0,
              "#0d0887"
             ],
             [
              0.1111111111111111,
              "#46039f"
             ],
             [
              0.2222222222222222,
              "#7201a8"
             ],
             [
              0.3333333333333333,
              "#9c179e"
             ],
             [
              0.4444444444444444,
              "#bd3786"
             ],
             [
              0.5555555555555556,
              "#d8576b"
             ],
             [
              0.6666666666666666,
              "#ed7953"
             ],
             [
              0.7777777777777778,
              "#fb9f3a"
             ],
             [
              0.8888888888888888,
              "#fdca26"
             ],
             [
              1,
              "#f0f921"
             ]
            ],
            "type": "surface"
           }
          ],
          "table": [
           {
            "cells": {
             "fill": {
              "color": "#EBF0F8"
             },
             "line": {
              "color": "white"
             }
            },
            "header": {
             "fill": {
              "color": "#C8D4E3"
             },
             "line": {
              "color": "white"
             }
            },
            "type": "table"
           }
          ]
         },
         "layout": {
          "annotationdefaults": {
           "arrowcolor": "#2a3f5f",
           "arrowhead": 0,
           "arrowwidth": 1
          },
          "autotypenumbers": "strict",
          "coloraxis": {
           "colorbar": {
            "outlinewidth": 0,
            "ticks": ""
           }
          },
          "colorscale": {
           "diverging": [
            [
             0,
             "#8e0152"
            ],
            [
             0.1,
             "#c51b7d"
            ],
            [
             0.2,
             "#de77ae"
            ],
            [
             0.3,
             "#f1b6da"
            ],
            [
             0.4,
             "#fde0ef"
            ],
            [
             0.5,
             "#f7f7f7"
            ],
            [
             0.6,
             "#e6f5d0"
            ],
            [
             0.7,
             "#b8e186"
            ],
            [
             0.8,
             "#7fbc41"
            ],
            [
             0.9,
             "#4d9221"
            ],
            [
             1,
             "#276419"
            ]
           ],
           "sequential": [
            [
             0,
             "#0d0887"
            ],
            [
             0.1111111111111111,
             "#46039f"
            ],
            [
             0.2222222222222222,
             "#7201a8"
            ],
            [
             0.3333333333333333,
             "#9c179e"
            ],
            [
             0.4444444444444444,
             "#bd3786"
            ],
            [
             0.5555555555555556,
             "#d8576b"
            ],
            [
             0.6666666666666666,
             "#ed7953"
            ],
            [
             0.7777777777777778,
             "#fb9f3a"
            ],
            [
             0.8888888888888888,
             "#fdca26"
            ],
            [
             1,
             "#f0f921"
            ]
           ],
           "sequentialminus": [
            [
             0,
             "#0d0887"
            ],
            [
             0.1111111111111111,
             "#46039f"
            ],
            [
             0.2222222222222222,
             "#7201a8"
            ],
            [
             0.3333333333333333,
             "#9c179e"
            ],
            [
             0.4444444444444444,
             "#bd3786"
            ],
            [
             0.5555555555555556,
             "#d8576b"
            ],
            [
             0.6666666666666666,
             "#ed7953"
            ],
            [
             0.7777777777777778,
             "#fb9f3a"
            ],
            [
             0.8888888888888888,
             "#fdca26"
            ],
            [
             1,
             "#f0f921"
            ]
           ]
          },
          "colorway": [
           "#636efa",
           "#EF553B",
           "#00cc96",
           "#ab63fa",
           "#FFA15A",
           "#19d3f3",
           "#FF6692",
           "#B6E880",
           "#FF97FF",
           "#FECB52"
          ],
          "font": {
           "color": "#2a3f5f"
          },
          "geo": {
           "bgcolor": "white",
           "lakecolor": "white",
           "landcolor": "#E5ECF6",
           "showlakes": true,
           "showland": true,
           "subunitcolor": "white"
          },
          "hoverlabel": {
           "align": "left"
          },
          "hovermode": "closest",
          "mapbox": {
           "style": "light"
          },
          "paper_bgcolor": "white",
          "plot_bgcolor": "#E5ECF6",
          "polar": {
           "angularaxis": {
            "gridcolor": "white",
            "linecolor": "white",
            "ticks": ""
           },
           "bgcolor": "#E5ECF6",
           "radialaxis": {
            "gridcolor": "white",
            "linecolor": "white",
            "ticks": ""
           }
          },
          "scene": {
           "xaxis": {
            "backgroundcolor": "#E5ECF6",
            "gridcolor": "white",
            "gridwidth": 2,
            "linecolor": "white",
            "showbackground": true,
            "ticks": "",
            "zerolinecolor": "white"
           },
           "yaxis": {
            "backgroundcolor": "#E5ECF6",
            "gridcolor": "white",
            "gridwidth": 2,
            "linecolor": "white",
            "showbackground": true,
            "ticks": "",
            "zerolinecolor": "white"
           },
           "zaxis": {
            "backgroundcolor": "#E5ECF6",
            "gridcolor": "white",
            "gridwidth": 2,
            "linecolor": "white",
            "showbackground": true,
            "ticks": "",
            "zerolinecolor": "white"
           }
          },
          "shapedefaults": {
           "line": {
            "color": "#2a3f5f"
           }
          },
          "ternary": {
           "aaxis": {
            "gridcolor": "white",
            "linecolor": "white",
            "ticks": ""
           },
           "baxis": {
            "gridcolor": "white",
            "linecolor": "white",
            "ticks": ""
           },
           "bgcolor": "#E5ECF6",
           "caxis": {
            "gridcolor": "white",
            "linecolor": "white",
            "ticks": ""
           }
          },
          "title": {
           "x": 0.05
          },
          "xaxis": {
           "automargin": true,
           "gridcolor": "white",
           "linecolor": "white",
           "ticks": "",
           "title": {
            "standoff": 15
           },
           "zerolinecolor": "white",
           "zerolinewidth": 2
          },
          "yaxis": {
           "automargin": true,
           "gridcolor": "white",
           "linecolor": "white",
           "ticks": "",
           "title": {
            "standoff": 15
           },
           "zerolinecolor": "white",
           "zerolinewidth": 2
          }
         }
        },
        "title": {
         "text": "<b>Codeforces Rating Progress for Multiple Users</b>"
        },
        "updatemenus": [
         {
          "buttons": [
           {
            "args": [
             {
              "visible": [
               true,
               false
              ]
             },
             {
              "title": "<b>7yeshwanth's Codeforces Rating Progress</b>"
             }
            ],
            "label": "7yeshwanth",
            "method": "update"
           },
           {
            "args": [
             {
              "visible": [
               false,
               true
              ]
             },
             {
              "title": "<b>user2's Codeforces Rating Progress</b>"
             }
            ],
            "label": "user2",
            "method": "update"
           },
           {
            "args": [
             {
              "visible": [
               true,
               true
              ]
             },
             {
              "title": "<b>Codeforces Rating Progress for Multiple Users</b>"
             }
            ],
            "label": "Show All",
            "method": "update"
           }
          ],
          "direction": "down",
          "showactive": true,
          "x": 0.17,
          "xanchor": "left",
          "y": 1.15,
          "yanchor": "top"
         }
        ],
        "xaxis": {
         "gridcolor": "lightgrey",
         "showgrid": true,
         "tickformat": "%b %d, %Y",
         "title": {
          "text": "<b>Date</b>"
         },
         "zerolinecolor": "grey"
        },
        "yaxis": {
         "gridcolor": "lightgrey",
         "showgrid": true,
         "title": {
          "text": "<b>Rating</b>"
         },
         "zerolinecolor": "grey"
        }
       }
      }
     },
     "metadata": {},
     "output_type": "display_data"
    }
   ],
   "source": [
    "import plotly.graph_objects as go\n",
    "from datetime import datetime\n",
    "\n",
    "# Data for multiple users (example with 2 users)\n",
    "data = [\n",
    "    {\n",
    "        \"handle\": \"7yeshwanth\",\n",
    "        \"results\": [\n",
    "            {\"contestId\": 1841, \"contestName\": \"Educational Codeforces Round 150 (Rated for Div. 2)\",\n",
    "             \"rank\": 10919, \"ratingUpdateTimeSeconds\": 1686587700, \"oldRating\": 0, \"newRating\": 392},\n",
    "            {\"contestId\": 1836, \"contestName\": \"Codeforces Round 880 (Div. 2)\", \"rank\": 10563,\n",
    "             \"ratingUpdateTimeSeconds\": 1687106100, \"oldRating\": 392, \"newRating\": 607},\n",
    "            # Additional contests for 7yeshwanth...\n",
    "        ]\n",
    "    },\n",
    "    {\n",
    "        \"handle\": \"user2\",\n",
    "        \"results\": [\n",
    "            {\"contestId\": 1841, \"contestName\": \"Educational Codeforces Round 150 (Rated for Div. 2)\",\n",
    "             \"rank\": 12000, \"ratingUpdateTimeSeconds\": 1686587700, \"oldRating\": 100, \"newRating\": 400},\n",
    "            {\"contestId\": 1836, \"contestName\": \"Codeforces Round 880 (Div. 2)\", \"rank\": 10500,\n",
    "             \"ratingUpdateTimeSeconds\": 1687106100, \"oldRating\": 400, \"newRating\": 620},\n",
    "            # Additional contests for user2...\n",
    "        ]\n",
    "    }\n",
    "]\n",
    "\n",
    "# Create the plot\n",
    "fig = go.Figure()\n",
    "\n",
    "# List to store visibility of traces (initially set to True)\n",
    "visibility = [True] * len(data)\n",
    "\n",
    "# Loop through each user's data and add a trace for each\n",
    "for i, user in enumerate(data):\n",
    "    handle = user[\"handle\"]\n",
    "    contests = user[\"results\"]\n",
    "\n",
    "    timestamps = [datetime.fromtimestamp(\n",
    "        item[\"ratingUpdateTimeSeconds\"]) for item in contests]\n",
    "    new_ratings = [item[\"newRating\"] for item in contests]\n",
    "    hover_text = [\n",
    "        f\"<b>Contest:</b> {item['contestName']}<br>\"\n",
    "        f\"<b>Rank:</b> {item['rank']}<br>\"\n",
    "        f\"<b>Old Rating:</b> {item['oldRating']}<br>\"\n",
    "        f\"<b>New Rating:</b> {item['newRating']}\"\n",
    "        for item in contests\n",
    "    ]\n",
    "\n",
    "    # Add trace for each user with enhanced design\n",
    "    fig.add_trace(go.Scatter(\n",
    "        x=timestamps,\n",
    "        y=new_ratings,\n",
    "        mode='lines+markers',\n",
    "        name=handle,  # Different trace for each user\n",
    "        hovertext=hover_text,\n",
    "        hoverinfo=\"text\",\n",
    "        line=dict(width=2),\n",
    "        marker=dict(size=8, symbol='circle', line=dict(\n",
    "            width=1, color='DarkSlateGrey')),\n",
    "        visible=visibility[i]  # Set visibility to True initially\n",
    "    ))\n",
    "\n",
    "# Add checkboxes for user selection\n",
    "buttons = []\n",
    "for i, user in enumerate(data):\n",
    "    buttons.append(\n",
    "        dict(\n",
    "            label=user[\"handle\"],\n",
    "            method=\"update\",\n",
    "            args=[{\"visible\": [j == i for j in range(len(data))]},  # Show only this user's data\n",
    "                  # Update title\n",
    "                  {\"title\": f\"<b>{user['handle']}'s Codeforces Rating Progress</b>\"}]\n",
    "        )\n",
    "    )\n",
    "\n",
    "# Add \"Show All\" button to show all users\n",
    "buttons.append(\n",
    "    dict(\n",
    "        label=\"Show All\",\n",
    "        method=\"update\",\n",
    "        args=[{\"visible\": [True] * len(data)},  # Show all users\n",
    "              # Reset title\n",
    "              {\"title\": \"<b>Codeforces Rating Progress for Multiple Users</b>\"}]\n",
    "    )\n",
    ")\n",
    "\n",
    "# Add buttons to layout\n",
    "fig.update_layout(\n",
    "    title=\"<b>Codeforces Rating Progress for Multiple Users</b>\",\n",
    "    xaxis_title=\"<b>Date</b>\",\n",
    "    yaxis_title=\"<b>Rating</b>\",\n",
    "    updatemenus=[{\n",
    "        \"buttons\": buttons,\n",
    "        \"direction\": \"down\",\n",
    "        \"showactive\": True,\n",
    "        \"x\": 0.17,\n",
    "        \"xanchor\": \"left\",\n",
    "        \"y\": 1.15,\n",
    "        \"yanchor\": \"top\"\n",
    "    }],\n",
    "    showlegend=True,\n",
    "    plot_bgcolor=\"#f9f9f9\",\n",
    "    xaxis=dict(\n",
    "        showgrid=True,\n",
    "        gridcolor='lightgrey',\n",
    "        zerolinecolor='grey',\n",
    "        tickformat=\"%b %d, %Y\"\n",
    "    ),\n",
    "    yaxis=dict(\n",
    "        showgrid=True,\n",
    "        gridcolor='lightgrey',\n",
    "        zerolinecolor='grey'\n",
    "    )\n",
    ")\n",
    "\n",
    "# Show the plot\n",
    "fig.show()"
   ]
  },
  {
   "cell_type": "code",
   "execution_count": null,
   "metadata": {},
   "outputs": [],
   "source": [
    "def gen_rating_graph(data):\n",
    "  fig = go.Figure()\n",
    "  for handle, contests in data.items():\n",
    "    ts = [datetime.fromtimestamp(item[\"ratingUpdateTimeSeconds\"])\n",
    "          for item in contests]\n",
    "    ratings = [item[\"newRating\"] for item in contests]\n",
    "    htext = [f\"\"\"Handle: <b><i>{handle}</b></i><br>\n",
    "                  Contest: <b><i>{item['contestName']}</b></i><br>\n",
    "                  Rating: <b><i>{item['newRating']}\n",
    "                  Rank: <b><i>{item['rank']}<br>\n",
    "                  \"\"\"\n",
    "                  for item in contests]\n",
    "    fig.add_trace(go.Scatter(\n",
    "      x=ts,\n",
    "      y=ratings,\n",
    "      mode='lines+markers',\n",
    "      name=handle,\n",
    "      hovertext=htext,\n",
    "      hoverinfo=\"text\"\n",
    "    ))\n",
    "  fig.update_layout(\n",
    "    title=\"<b>Codeforces Rating</b>\",\n",
    "    xaxis_title=\"<b>Date</b>\",\n",
    "    yaxis_title=\"<b>Rating</b>\",\n",
    "    showlegend=True,\n",
    "    legend=dict(\n",
    "        title=\"<b>Users</b>\",\n",
    "    ),\n",
    "  )\n",
    "  return fig"
   ]
  },
  {
   "cell_type": "code",
   "execution_count": 15,
   "metadata": {},
   "outputs": [
    {
     "data": {
      "application/vnd.plotly.v1+json": {
       "config": {
        "plotlyServerURL": "https://plot.ly"
       },
       "data": [
        {
         "hoverinfo": "text",
         "name": "user",
         "text": [
          "user: 7",
          "user: 4",
          "user: 3",
          "user: 5"
         ],
         "type": "bar",
         "x": [
          800,
          900,
          1000,
          1100
         ],
         "y": [
          7,
          4,
          3,
          5
         ]
        },
        {
         "hoverinfo": "text",
         "name": "user1",
         "text": [
          "user1: 6",
          "user1: 5",
          "user1: 7",
          "user1: 2"
         ],
         "type": "bar",
         "x": [
          800,
          900,
          1000,
          1100
         ],
         "y": [
          6,
          5,
          7,
          2
         ]
        },
        {
         "hoverinfo": "text",
         "name": "user2",
         "text": [
          "user2: 4",
          "user2: 6",
          "user2: 5",
          "user2: 8"
         ],
         "type": "bar",
         "x": [
          800,
          900,
          1000,
          1100
         ],
         "y": [
          4,
          6,
          5,
          8
         ]
        }
       ],
       "layout": {
        "barmode": "group",
        "legend": {
         "title": {
          "text": "Users"
         }
        },
        "plot_bgcolor": "#f9f9f9",
        "template": {
         "data": {
          "candlestick": [
           {
            "decreasing": {
             "line": {
              "color": "#000033"
             }
            },
            "increasing": {
             "line": {
              "color": "#000032"
             }
            },
            "type": "candlestick"
           }
          ],
          "contour": [
           {
            "colorscale": [
             [
              0,
              "#000011"
             ],
             [
              0.1111111111111111,
              "#000012"
             ],
             [
              0.2222222222222222,
              "#000013"
             ],
             [
              0.3333333333333333,
              "#000014"
             ],
             [
              0.4444444444444444,
              "#000015"
             ],
             [
              0.5555555555555556,
              "#000016"
             ],
             [
              0.6666666666666666,
              "#000017"
             ],
             [
              0.7777777777777778,
              "#000018"
             ],
             [
              0.8888888888888888,
              "#000019"
             ],
             [
              1,
              "#000020"
             ]
            ],
            "type": "contour"
           }
          ],
          "contourcarpet": [
           {
            "colorscale": [
             [
              0,
              "#000011"
             ],
             [
              0.1111111111111111,
              "#000012"
             ],
             [
              0.2222222222222222,
              "#000013"
             ],
             [
              0.3333333333333333,
              "#000014"
             ],
             [
              0.4444444444444444,
              "#000015"
             ],
             [
              0.5555555555555556,
              "#000016"
             ],
             [
              0.6666666666666666,
              "#000017"
             ],
             [
              0.7777777777777778,
              "#000018"
             ],
             [
              0.8888888888888888,
              "#000019"
             ],
             [
              1,
              "#000020"
             ]
            ],
            "type": "contourcarpet"
           }
          ],
          "heatmap": [
           {
            "colorscale": [
             [
              0,
              "#000011"
             ],
             [
              0.1111111111111111,
              "#000012"
             ],
             [
              0.2222222222222222,
              "#000013"
             ],
             [
              0.3333333333333333,
              "#000014"
             ],
             [
              0.4444444444444444,
              "#000015"
             ],
             [
              0.5555555555555556,
              "#000016"
             ],
             [
              0.6666666666666666,
              "#000017"
             ],
             [
              0.7777777777777778,
              "#000018"
             ],
             [
              0.8888888888888888,
              "#000019"
             ],
             [
              1,
              "#000020"
             ]
            ],
            "type": "heatmap"
           }
          ],
          "histogram2d": [
           {
            "colorscale": [
             [
              0,
              "#000011"
             ],
             [
              0.1111111111111111,
              "#000012"
             ],
             [
              0.2222222222222222,
              "#000013"
             ],
             [
              0.3333333333333333,
              "#000014"
             ],
             [
              0.4444444444444444,
              "#000015"
             ],
             [
              0.5555555555555556,
              "#000016"
             ],
             [
              0.6666666666666666,
              "#000017"
             ],
             [
              0.7777777777777778,
              "#000018"
             ],
             [
              0.8888888888888888,
              "#000019"
             ],
             [
              1,
              "#000020"
             ]
            ],
            "type": "histogram2d"
           }
          ],
          "icicle": [
           {
            "textfont": {
             "color": "white"
            },
            "type": "icicle"
           }
          ],
          "sankey": [
           {
            "textfont": {
             "color": "#000036"
            },
            "type": "sankey"
           }
          ],
          "scatter": [
           {
            "marker": {
             "line": {
              "width": 0
             }
            },
            "type": "scatter"
           }
          ],
          "table": [
           {
            "cells": {
             "fill": {
              "color": "#000038"
             },
             "font": {
              "color": "#000037"
             },
             "line": {
              "color": "#000039"
             }
            },
            "header": {
             "fill": {
              "color": "#000040"
             },
             "font": {
              "color": "#000036"
             },
             "line": {
              "color": "#000039"
             }
            },
            "type": "table"
           }
          ],
          "waterfall": [
           {
            "connector": {
             "line": {
              "color": "#000036",
              "width": 2
             }
            },
            "decreasing": {
             "marker": {
              "color": "#000033"
             }
            },
            "increasing": {
             "marker": {
              "color": "#000032"
             }
            },
            "totals": {
             "marker": {
              "color": "#000034"
             }
            },
            "type": "waterfall"
           }
          ]
         },
         "layout": {
          "coloraxis": {
           "colorscale": [
            [
             0,
             "#000011"
            ],
            [
             0.1111111111111111,
             "#000012"
            ],
            [
             0.2222222222222222,
             "#000013"
            ],
            [
             0.3333333333333333,
             "#000014"
            ],
            [
             0.4444444444444444,
             "#000015"
            ],
            [
             0.5555555555555556,
             "#000016"
            ],
            [
             0.6666666666666666,
             "#000017"
            ],
            [
             0.7777777777777778,
             "#000018"
            ],
            [
             0.8888888888888888,
             "#000019"
            ],
            [
             1,
             "#000020"
            ]
           ]
          },
          "colorscale": {
           "diverging": [
            [
             0,
             "#000021"
            ],
            [
             0.1,
             "#000022"
            ],
            [
             0.2,
             "#000023"
            ],
            [
             0.3,
             "#000024"
            ],
            [
             0.4,
             "#000025"
            ],
            [
             0.5,
             "#000026"
            ],
            [
             0.6,
             "#000027"
            ],
            [
             0.7,
             "#000028"
            ],
            [
             0.8,
             "#000029"
            ],
            [
             0.9,
             "#000030"
            ],
            [
             1,
             "#000031"
            ]
           ],
           "sequential": [
            [
             0,
             "#000011"
            ],
            [
             0.1111111111111111,
             "#000012"
            ],
            [
             0.2222222222222222,
             "#000013"
            ],
            [
             0.3333333333333333,
             "#000014"
            ],
            [
             0.4444444444444444,
             "#000015"
            ],
            [
             0.5555555555555556,
             "#000016"
            ],
            [
             0.6666666666666666,
             "#000017"
            ],
            [
             0.7777777777777778,
             "#000018"
            ],
            [
             0.8888888888888888,
             "#000019"
            ],
            [
             1,
             "#000020"
            ]
           ],
           "sequentialminus": [
            [
             0,
             "#000011"
            ],
            [
             0.1111111111111111,
             "#000012"
            ],
            [
             0.2222222222222222,
             "#000013"
            ],
            [
             0.3333333333333333,
             "#000014"
            ],
            [
             0.4444444444444444,
             "#000015"
            ],
            [
             0.5555555555555556,
             "#000016"
            ],
            [
             0.6666666666666666,
             "#000017"
            ],
            [
             0.7777777777777778,
             "#000018"
            ],
            [
             0.8888888888888888,
             "#000019"
            ],
            [
             1,
             "#000020"
            ]
           ]
          },
          "colorway": [
           "#000001",
           "#000002",
           "#000003",
           "#000004",
           "#000005",
           "#000006",
           "#000007",
           "#000008",
           "#000009",
           "#000010"
          ]
         }
        },
        "title": {
         "text": "Problems Solved by Users at Different Difficulty Levels"
        },
        "xaxis": {
         "gridcolor": "lightgrey",
         "showgrid": true,
         "title": {
          "text": "Difficulty Level"
         }
        },
        "yaxis": {
         "gridcolor": "lightgrey",
         "showgrid": true,
         "title": {
          "text": "Number of Problems Solved"
         }
        }
       }
      }
     },
     "metadata": {},
     "output_type": "display_data"
    }
   ],
   "source": [
    "import plotly.graph_objects as go\n",
    "\n",
    "# Sample data\n",
    "data = {\n",
    "    \"user\": {800: 7, 900: 4, 1000: 3, 1100: 5},\n",
    "    \"user1\": {800: 6, 900: 5, 1000: 7, 1100: 2},\n",
    "    \"user2\": {800: 4, 900: 6, 1000: 5, 1100: 8}\n",
    "}\n",
    "\n",
    "# Prepare figure\n",
    "fig = go.Figure()\n",
    "\n",
    "# Loop through each user and add a bar trace\n",
    "for user, problems in data.items():\n",
    "    difficulties = list(problems.keys())  # X-axis values (difficulty levels)\n",
    "    num_solved = list(problems.values())  # Y-axis values (problems solved)\n",
    "\n",
    "    # Add bar for each user\n",
    "    fig.add_trace(go.Bar(\n",
    "        x=difficulties,\n",
    "        y=num_solved,\n",
    "        name=user,\n",
    "        text=[f\"{user}: {num}\" for num in num_solved],\n",
    "        hoverinfo=\"text\",  # Hover to show the user and number of problems solved\n",
    "    ))\n",
    "\n",
    "# Update layout for better visualization\n",
    "fig.update_layout(\n",
    "    title=\"Problems Solved by Users at Different Difficulty Levels\",\n",
    "    xaxis_title=\"Difficulty Level\",\n",
    "    yaxis_title=\"Number of Problems Solved\",\n",
    "    barmode='group',  # Group bars by difficulty level\n",
    "    plot_bgcolor=\"#f9f9f9\",  # Light background color\n",
    "    xaxis=dict(showgrid=True, gridcolor='lightgrey'),\n",
    "    yaxis=dict(showgrid=True, gridcolor='lightgrey'),\n",
    "    legend_title=\"Users\",  # Title for legend\n",
    ")\n",
    "fig.show()"
   ]
  },
  {
   "cell_type": "code",
   "execution_count": 17,
   "metadata": {},
   "outputs": [
    {
     "data": {
      "application/vnd.plotly.v1+json": {
       "config": {
        "plotlyServerURL": "https://plot.ly"
       },
       "data": [
        {
         "hoverinfo": "text",
         "marker": {
          "color": "#636EFA"
         },
         "name": "user",
         "text": [
          "user: 7",
          "user: 4",
          "user: 3",
          "user: 5"
         ],
         "type": "bar",
         "x": [
          800,
          900,
          1000,
          1100
         ],
         "y": [
          7,
          4,
          3,
          5
         ]
        },
        {
         "hoverinfo": "text",
         "marker": {
          "color": "#EF553B"
         },
         "name": "user1",
         "text": [
          "user1: 6",
          "user1: 5",
          "user1: 7",
          "user1: 2"
         ],
         "type": "bar",
         "x": [
          800,
          900,
          1000,
          1100
         ],
         "y": [
          6,
          5,
          7,
          2
         ]
        },
        {
         "hoverinfo": "text",
         "marker": {
          "color": "#00CC96"
         },
         "name": "user2",
         "text": [
          "user2: 4",
          "user2: 6",
          "user2: 5",
          "user2: 8"
         ],
         "type": "bar",
         "x": [
          800,
          900,
          1000,
          1100
         ],
         "y": [
          4,
          6,
          5,
          8
         ]
        }
       ],
       "layout": {
        "barmode": "group",
        "legend": {
         "title": {
          "text": "Users"
         }
        },
        "plot_bgcolor": "#f9f9f9",
        "template": {
         "data": {
          "candlestick": [
           {
            "decreasing": {
             "line": {
              "color": "#000033"
             }
            },
            "increasing": {
             "line": {
              "color": "#000032"
             }
            },
            "type": "candlestick"
           }
          ],
          "contour": [
           {
            "colorscale": [
             [
              0,
              "#000011"
             ],
             [
              0.1111111111111111,
              "#000012"
             ],
             [
              0.2222222222222222,
              "#000013"
             ],
             [
              0.3333333333333333,
              "#000014"
             ],
             [
              0.4444444444444444,
              "#000015"
             ],
             [
              0.5555555555555556,
              "#000016"
             ],
             [
              0.6666666666666666,
              "#000017"
             ],
             [
              0.7777777777777778,
              "#000018"
             ],
             [
              0.8888888888888888,
              "#000019"
             ],
             [
              1,
              "#000020"
             ]
            ],
            "type": "contour"
           }
          ],
          "contourcarpet": [
           {
            "colorscale": [
             [
              0,
              "#000011"
             ],
             [
              0.1111111111111111,
              "#000012"
             ],
             [
              0.2222222222222222,
              "#000013"
             ],
             [
              0.3333333333333333,
              "#000014"
             ],
             [
              0.4444444444444444,
              "#000015"
             ],
             [
              0.5555555555555556,
              "#000016"
             ],
             [
              0.6666666666666666,
              "#000017"
             ],
             [
              0.7777777777777778,
              "#000018"
             ],
             [
              0.8888888888888888,
              "#000019"
             ],
             [
              1,
              "#000020"
             ]
            ],
            "type": "contourcarpet"
           }
          ],
          "heatmap": [
           {
            "colorscale": [
             [
              0,
              "#000011"
             ],
             [
              0.1111111111111111,
              "#000012"
             ],
             [
              0.2222222222222222,
              "#000013"
             ],
             [
              0.3333333333333333,
              "#000014"
             ],
             [
              0.4444444444444444,
              "#000015"
             ],
             [
              0.5555555555555556,
              "#000016"
             ],
             [
              0.6666666666666666,
              "#000017"
             ],
             [
              0.7777777777777778,
              "#000018"
             ],
             [
              0.8888888888888888,
              "#000019"
             ],
             [
              1,
              "#000020"
             ]
            ],
            "type": "heatmap"
           }
          ],
          "histogram2d": [
           {
            "colorscale": [
             [
              0,
              "#000011"
             ],
             [
              0.1111111111111111,
              "#000012"
             ],
             [
              0.2222222222222222,
              "#000013"
             ],
             [
              0.3333333333333333,
              "#000014"
             ],
             [
              0.4444444444444444,
              "#000015"
             ],
             [
              0.5555555555555556,
              "#000016"
             ],
             [
              0.6666666666666666,
              "#000017"
             ],
             [
              0.7777777777777778,
              "#000018"
             ],
             [
              0.8888888888888888,
              "#000019"
             ],
             [
              1,
              "#000020"
             ]
            ],
            "type": "histogram2d"
           }
          ],
          "icicle": [
           {
            "textfont": {
             "color": "white"
            },
            "type": "icicle"
           }
          ],
          "sankey": [
           {
            "textfont": {
             "color": "#000036"
            },
            "type": "sankey"
           }
          ],
          "scatter": [
           {
            "marker": {
             "line": {
              "width": 0
             }
            },
            "type": "scatter"
           }
          ],
          "table": [
           {
            "cells": {
             "fill": {
              "color": "#000038"
             },
             "font": {
              "color": "#000037"
             },
             "line": {
              "color": "#000039"
             }
            },
            "header": {
             "fill": {
              "color": "#000040"
             },
             "font": {
              "color": "#000036"
             },
             "line": {
              "color": "#000039"
             }
            },
            "type": "table"
           }
          ],
          "waterfall": [
           {
            "connector": {
             "line": {
              "color": "#000036",
              "width": 2
             }
            },
            "decreasing": {
             "marker": {
              "color": "#000033"
             }
            },
            "increasing": {
             "marker": {
              "color": "#000032"
             }
            },
            "totals": {
             "marker": {
              "color": "#000034"
             }
            },
            "type": "waterfall"
           }
          ]
         },
         "layout": {
          "coloraxis": {
           "colorscale": [
            [
             0,
             "#000011"
            ],
            [
             0.1111111111111111,
             "#000012"
            ],
            [
             0.2222222222222222,
             "#000013"
            ],
            [
             0.3333333333333333,
             "#000014"
            ],
            [
             0.4444444444444444,
             "#000015"
            ],
            [
             0.5555555555555556,
             "#000016"
            ],
            [
             0.6666666666666666,
             "#000017"
            ],
            [
             0.7777777777777778,
             "#000018"
            ],
            [
             0.8888888888888888,
             "#000019"
            ],
            [
             1,
             "#000020"
            ]
           ]
          },
          "colorscale": {
           "diverging": [
            [
             0,
             "#000021"
            ],
            [
             0.1,
             "#000022"
            ],
            [
             0.2,
             "#000023"
            ],
            [
             0.3,
             "#000024"
            ],
            [
             0.4,
             "#000025"
            ],
            [
             0.5,
             "#000026"
            ],
            [
             0.6,
             "#000027"
            ],
            [
             0.7,
             "#000028"
            ],
            [
             0.8,
             "#000029"
            ],
            [
             0.9,
             "#000030"
            ],
            [
             1,
             "#000031"
            ]
           ],
           "sequential": [
            [
             0,
             "#000011"
            ],
            [
             0.1111111111111111,
             "#000012"
            ],
            [
             0.2222222222222222,
             "#000013"
            ],
            [
             0.3333333333333333,
             "#000014"
            ],
            [
             0.4444444444444444,
             "#000015"
            ],
            [
             0.5555555555555556,
             "#000016"
            ],
            [
             0.6666666666666666,
             "#000017"
            ],
            [
             0.7777777777777778,
             "#000018"
            ],
            [
             0.8888888888888888,
             "#000019"
            ],
            [
             1,
             "#000020"
            ]
           ],
           "sequentialminus": [
            [
             0,
             "#000011"
            ],
            [
             0.1111111111111111,
             "#000012"
            ],
            [
             0.2222222222222222,
             "#000013"
            ],
            [
             0.3333333333333333,
             "#000014"
            ],
            [
             0.4444444444444444,
             "#000015"
            ],
            [
             0.5555555555555556,
             "#000016"
            ],
            [
             0.6666666666666666,
             "#000017"
            ],
            [
             0.7777777777777778,
             "#000018"
            ],
            [
             0.8888888888888888,
             "#000019"
            ],
            [
             1,
             "#000020"
            ]
           ]
          },
          "colorway": [
           "#000001",
           "#000002",
           "#000003",
           "#000004",
           "#000005",
           "#000006",
           "#000007",
           "#000008",
           "#000009",
           "#000010"
          ]
         }
        },
        "title": {
         "text": "Problems Solved by Users at Different Difficulty Levels"
        },
        "xaxis": {
         "gridcolor": "lightgrey",
         "showgrid": true,
         "title": {
          "text": "Difficulty Level"
         }
        },
        "yaxis": {
         "gridcolor": "lightgrey",
         "showgrid": true,
         "title": {
          "text": "Number of Problems Solved"
         }
        }
       }
      }
     },
     "metadata": {},
     "output_type": "display_data"
    }
   ],
   "source": [
    "import plotly.graph_objects as go\n",
    "\n",
    "# Sample data\n",
    "data = {\n",
    "    \"user\": {800: 7, 900: 4, 1000: 3, 1100: 5},\n",
    "    \"user1\": {800: 6, 900: 5, 1000: 7, 1100: 2},\n",
    "    \"user2\": {800: 4, 900: 6, 1000: 5, 1100: 8}\n",
    "}\n",
    "\n",
    "# Define a list of colors to assign each user a unique color\n",
    "colors = ['#636EFA', '#EF553B', '#00CC96', '#AB63FA', '#FFA15A']\n",
    "\n",
    "# Prepare the figure\n",
    "fig = go.Figure()\n",
    "\n",
    "# Loop through each user and add a bar trace with a specific color\n",
    "for idx, (user, problems) in enumerate(data.items()):\n",
    "    difficulties = list(problems.keys())  # X-axis values (difficulty levels)\n",
    "    num_solved = list(problems.values())  # Y-axis values (problems solved)\n",
    "\n",
    "    # Add bar trace for each user\n",
    "    fig.add_trace(go.Bar(\n",
    "        x=difficulties,\n",
    "        y=num_solved,\n",
    "        name=user,\n",
    "        text=[f\"{user}: {num}\" for num in num_solved],\n",
    "        hoverinfo=\"text\",  # Hover to show the user and number of problems solved\n",
    "        marker_color=colors[idx % len(colors)]  # Assign a color from the list\n",
    "    ))\n",
    "\n",
    "# Update layout for better visualization\n",
    "fig.update_layout(\n",
    "    title=\"<b>Problems Solved by Users at Different Difficulty Levels\",\n",
    "    xaxis_title=\"<b>Difficulty Level</b>\",\n",
    "    yaxis_title=\"<b>Number of Problems Solved</b>\",\n",
    "    barmode='group',  # Group bars by difficulty level\n",
    "    plot_bgcolor=\"#f9f9f9\",  # Light background color\n",
    "    xaxis=dict(showgrid=True, gridcolor='lightgrey'),\n",
    "    yaxis=dict(showgrid=True, gridcolor='lightgrey'),\n",
    "    legend_title=\"<b>Users</b>\",  # Title for legend\n",
    ")\n",
    "fig.show()"
   ]
  },
  {
   "cell_type": "code",
   "execution_count": 30,
   "metadata": {},
   "outputs": [],
   "source": [
    "col = [\n",
    "    \"#ff6347\", \"#ffa07a\", \"#20b2aa\", \"#87cefa\", \"#778899\", \"#b0c4de\", \"#32cd32\", \"#ff4500\", \"#da70d6\", \"#eee8aa\",\n",
    "    \"#bd93f9\", \"#ff79c6\", \"#8be9fd\", \"#50fa7b\", \"#ffb86c\", \"#ff5555\", \"#f1fa8c\", \"#6272a4\", \"#ff6e6e\", \"#69ff94\",\n",
    "    \"#ff1493\", \"#00ced1\", \"#9400d3\", \"#ff8c00\", \"#00fa9a\", \"#4682b4\", \"#d2691e\", \"#ff00ff\", \"#7fffd4\", \"#dc143c\",\n",
    "    \"#00bfff\", \"#ffdab9\", \"#8a2be2\", \"#5f9ea0\", \"#d2b48c\", \"#ffdead\", \"#ff69b4\", \"#cd5c5c\", \"#4b0082\", \"#7cfc00\"\n",
    "]\n",
    "def gen_pro_bar(data):\n",
    "  fig = go.Figure()\n",
    "  for i, (ur, pro) in enumerate(data.items()):\n",
    "    dif = list(pro.keys())\n",
    "    num = list(pro.values())\n",
    "    fig.add_trace(go.Bar(\n",
    "      x=dif,\n",
    "      y=num,\n",
    "      name=ur,\n",
    "      text=[f\"{ur}: <b>{num}</b>\" for num in num],\n",
    "      hoverinfo=\"text\",\n",
    "      marker_color=col[i % len(col)]\n",
    "    ))\n",
    "  fig.update_layout(\n",
    "      title=\"<b>Problems Solved</b>\",\n",
    "      xaxis_title=\"<b>Difficulty Level</b>\",\n",
    "      yaxis_title=\"<b>Number of Problems Solved</b>\",\n",
    "    barmode='group',\n",
    "      legend_title=\"<b>Users</b>\",\n",
    "  )\n",
    "  return fig"
   ]
  },
  {
   "cell_type": "code",
   "execution_count": 31,
   "metadata": {},
   "outputs": [
    {
     "data": {
      "application/vnd.plotly.v1+json": {
       "config": {
        "plotlyServerURL": "https://plot.ly"
       },
       "data": [
        {
         "hoverinfo": "text",
         "marker": {
          "color": "#ff6347"
         },
         "name": "user",
         "text": [
          "user: <b>7</b>",
          "user: <b>4</b>",
          "user: <b>3</b>",
          "user: <b>5</b>"
         ],
         "type": "bar",
         "x": [
          800,
          900,
          1000,
          1100
         ],
         "y": [
          7,
          4,
          3,
          5
         ]
        },
        {
         "hoverinfo": "text",
         "marker": {
          "color": "#ffa07a"
         },
         "name": "user1",
         "text": [
          "user1: <b>6</b>",
          "user1: <b>5</b>",
          "user1: <b>7</b>",
          "user1: <b>2</b>"
         ],
         "type": "bar",
         "x": [
          800,
          900,
          1000,
          1100
         ],
         "y": [
          6,
          5,
          7,
          2
         ]
        },
        {
         "hoverinfo": "text",
         "marker": {
          "color": "#20b2aa"
         },
         "name": "user2",
         "text": [
          "user2: <b>4</b>",
          "user2: <b>6</b>",
          "user2: <b>5</b>",
          "user2: <b>8</b>"
         ],
         "type": "bar",
         "x": [
          800,
          900,
          1000,
          1100
         ],
         "y": [
          4,
          6,
          5,
          8
         ]
        }
       ],
       "layout": {
        "barmode": "group",
        "legend": {
         "title": {
          "text": "<b>Users</b>"
         }
        },
        "template": {
         "data": {
          "candlestick": [
           {
            "decreasing": {
             "line": {
              "color": "#000033"
             }
            },
            "increasing": {
             "line": {
              "color": "#000032"
             }
            },
            "type": "candlestick"
           }
          ],
          "contour": [
           {
            "colorscale": [
             [
              0,
              "#000011"
             ],
             [
              0.1111111111111111,
              "#000012"
             ],
             [
              0.2222222222222222,
              "#000013"
             ],
             [
              0.3333333333333333,
              "#000014"
             ],
             [
              0.4444444444444444,
              "#000015"
             ],
             [
              0.5555555555555556,
              "#000016"
             ],
             [
              0.6666666666666666,
              "#000017"
             ],
             [
              0.7777777777777778,
              "#000018"
             ],
             [
              0.8888888888888888,
              "#000019"
             ],
             [
              1,
              "#000020"
             ]
            ],
            "type": "contour"
           }
          ],
          "contourcarpet": [
           {
            "colorscale": [
             [
              0,
              "#000011"
             ],
             [
              0.1111111111111111,
              "#000012"
             ],
             [
              0.2222222222222222,
              "#000013"
             ],
             [
              0.3333333333333333,
              "#000014"
             ],
             [
              0.4444444444444444,
              "#000015"
             ],
             [
              0.5555555555555556,
              "#000016"
             ],
             [
              0.6666666666666666,
              "#000017"
             ],
             [
              0.7777777777777778,
              "#000018"
             ],
             [
              0.8888888888888888,
              "#000019"
             ],
             [
              1,
              "#000020"
             ]
            ],
            "type": "contourcarpet"
           }
          ],
          "heatmap": [
           {
            "colorscale": [
             [
              0,
              "#000011"
             ],
             [
              0.1111111111111111,
              "#000012"
             ],
             [
              0.2222222222222222,
              "#000013"
             ],
             [
              0.3333333333333333,
              "#000014"
             ],
             [
              0.4444444444444444,
              "#000015"
             ],
             [
              0.5555555555555556,
              "#000016"
             ],
             [
              0.6666666666666666,
              "#000017"
             ],
             [
              0.7777777777777778,
              "#000018"
             ],
             [
              0.8888888888888888,
              "#000019"
             ],
             [
              1,
              "#000020"
             ]
            ],
            "type": "heatmap"
           }
          ],
          "histogram2d": [
           {
            "colorscale": [
             [
              0,
              "#000011"
             ],
             [
              0.1111111111111111,
              "#000012"
             ],
             [
              0.2222222222222222,
              "#000013"
             ],
             [
              0.3333333333333333,
              "#000014"
             ],
             [
              0.4444444444444444,
              "#000015"
             ],
             [
              0.5555555555555556,
              "#000016"
             ],
             [
              0.6666666666666666,
              "#000017"
             ],
             [
              0.7777777777777778,
              "#000018"
             ],
             [
              0.8888888888888888,
              "#000019"
             ],
             [
              1,
              "#000020"
             ]
            ],
            "type": "histogram2d"
           }
          ],
          "icicle": [
           {
            "textfont": {
             "color": "white"
            },
            "type": "icicle"
           }
          ],
          "sankey": [
           {
            "textfont": {
             "color": "#000036"
            },
            "type": "sankey"
           }
          ],
          "scatter": [
           {
            "marker": {
             "line": {
              "width": 0
             }
            },
            "type": "scatter"
           }
          ],
          "table": [
           {
            "cells": {
             "fill": {
              "color": "#000038"
             },
             "font": {
              "color": "#000037"
             },
             "line": {
              "color": "#000039"
             }
            },
            "header": {
             "fill": {
              "color": "#000040"
             },
             "font": {
              "color": "#000036"
             },
             "line": {
              "color": "#000039"
             }
            },
            "type": "table"
           }
          ],
          "waterfall": [
           {
            "connector": {
             "line": {
              "color": "#000036",
              "width": 2
             }
            },
            "decreasing": {
             "marker": {
              "color": "#000033"
             }
            },
            "increasing": {
             "marker": {
              "color": "#000032"
             }
            },
            "totals": {
             "marker": {
              "color": "#000034"
             }
            },
            "type": "waterfall"
           }
          ]
         },
         "layout": {
          "coloraxis": {
           "colorscale": [
            [
             0,
             "#000011"
            ],
            [
             0.1111111111111111,
             "#000012"
            ],
            [
             0.2222222222222222,
             "#000013"
            ],
            [
             0.3333333333333333,
             "#000014"
            ],
            [
             0.4444444444444444,
             "#000015"
            ],
            [
             0.5555555555555556,
             "#000016"
            ],
            [
             0.6666666666666666,
             "#000017"
            ],
            [
             0.7777777777777778,
             "#000018"
            ],
            [
             0.8888888888888888,
             "#000019"
            ],
            [
             1,
             "#000020"
            ]
           ]
          },
          "colorscale": {
           "diverging": [
            [
             0,
             "#000021"
            ],
            [
             0.1,
             "#000022"
            ],
            [
             0.2,
             "#000023"
            ],
            [
             0.3,
             "#000024"
            ],
            [
             0.4,
             "#000025"
            ],
            [
             0.5,
             "#000026"
            ],
            [
             0.6,
             "#000027"
            ],
            [
             0.7,
             "#000028"
            ],
            [
             0.8,
             "#000029"
            ],
            [
             0.9,
             "#000030"
            ],
            [
             1,
             "#000031"
            ]
           ],
           "sequential": [
            [
             0,
             "#000011"
            ],
            [
             0.1111111111111111,
             "#000012"
            ],
            [
             0.2222222222222222,
             "#000013"
            ],
            [
             0.3333333333333333,
             "#000014"
            ],
            [
             0.4444444444444444,
             "#000015"
            ],
            [
             0.5555555555555556,
             "#000016"
            ],
            [
             0.6666666666666666,
             "#000017"
            ],
            [
             0.7777777777777778,
             "#000018"
            ],
            [
             0.8888888888888888,
             "#000019"
            ],
            [
             1,
             "#000020"
            ]
           ],
           "sequentialminus": [
            [
             0,
             "#000011"
            ],
            [
             0.1111111111111111,
             "#000012"
            ],
            [
             0.2222222222222222,
             "#000013"
            ],
            [
             0.3333333333333333,
             "#000014"
            ],
            [
             0.4444444444444444,
             "#000015"
            ],
            [
             0.5555555555555556,
             "#000016"
            ],
            [
             0.6666666666666666,
             "#000017"
            ],
            [
             0.7777777777777778,
             "#000018"
            ],
            [
             0.8888888888888888,
             "#000019"
            ],
            [
             1,
             "#000020"
            ]
           ]
          },
          "colorway": [
           "#000001",
           "#000002",
           "#000003",
           "#000004",
           "#000005",
           "#000006",
           "#000007",
           "#000008",
           "#000009",
           "#000010"
          ]
         }
        },
        "title": {
         "text": "<b>Problems Solved</b>"
        },
        "xaxis": {
         "title": {
          "text": "<b>Difficulty Level</b>"
         }
        },
        "yaxis": {
         "title": {
          "text": "<b>Number of Problems Solved</b>"
         }
        }
       }
      }
     },
     "metadata": {},
     "output_type": "display_data"
    }
   ],
   "source": [
    "gen_pro_bar(data).show()"
   ]
  },
  {
   "cell_type": "code",
   "execution_count": 33,
   "metadata": {},
   "outputs": [
    {
     "data": {
      "application/vnd.plotly.v1+json": {
       "config": {
        "plotlyServerURL": "https://plot.ly"
       },
       "data": [
        {
         "hoverinfo": "text",
         "line": {
          "color": "#96e7a9",
          "width": 2
         },
         "marker": {
          "size": 8
         },
         "mode": "lines+markers",
         "name": "user1",
         "text": [
          "user1: 7",
          "user1: 4",
          "user1: 3",
          "user1: 5"
         ],
         "type": "scatter",
         "x": [
          800,
          900,
          1000,
          1100
         ],
         "y": [
          7,
          4,
          3,
          5
         ]
        },
        {
         "hoverinfo": "text",
         "line": {
          "color": "#b414dd",
          "width": 2
         },
         "marker": {
          "size": 8
         },
         "mode": "lines+markers",
         "name": "user2",
         "text": [
          "user2: 6",
          "user2: 5",
          "user2: 7",
          "user2: 2"
         ],
         "type": "scatter",
         "x": [
          800,
          900,
          1000,
          1100
         ],
         "y": [
          6,
          5,
          7,
          2
         ]
        },
        {
         "hoverinfo": "text",
         "line": {
          "color": "#83c713",
          "width": 2
         },
         "marker": {
          "size": 8
         },
         "mode": "lines+markers",
         "name": "user3",
         "text": [
          "user3: 4",
          "user3: 6",
          "user3: 5",
          "user3: 8"
         ],
         "type": "scatter",
         "x": [
          800,
          900,
          1000,
          1100
         ],
         "y": [
          4,
          6,
          5,
          8
         ]
        },
        {
         "hoverinfo": "text",
         "line": {
          "color": "#5b7086",
          "width": 2
         },
         "marker": {
          "size": 8
         },
         "mode": "lines+markers",
         "name": "user4",
         "text": [
          "user4: 3",
          "user4: 4",
          "user4: 5",
          "user4: 7"
         ],
         "type": "scatter",
         "x": [
          800,
          900,
          1000,
          1100
         ],
         "y": [
          3,
          4,
          5,
          7
         ]
        },
        {
         "hoverinfo": "text",
         "line": {
          "color": "#a167a7",
          "width": 2
         },
         "marker": {
          "size": 8
         },
         "mode": "lines+markers",
         "name": "user5",
         "text": [
          "user5: 5",
          "user5: 3",
          "user5: 6",
          "user5: 6"
         ],
         "type": "scatter",
         "x": [
          800,
          900,
          1000,
          1100
         ],
         "y": [
          5,
          3,
          6,
          6
         ]
        },
        {
         "hoverinfo": "text",
         "line": {
          "color": "#c7d9d5",
          "width": 2
         },
         "marker": {
          "size": 8
         },
         "mode": "lines+markers",
         "name": "user6",
         "text": [
          "user6: 6",
          "user6: 7",
          "user6: 4",
          "user6: 3"
         ],
         "type": "scatter",
         "x": [
          800,
          900,
          1000,
          1100
         ],
         "y": [
          6,
          7,
          4,
          3
         ]
        },
        {
         "hoverinfo": "text",
         "line": {
          "color": "#00eab4",
          "width": 2
         },
         "marker": {
          "size": 8
         },
         "mode": "lines+markers",
         "name": "user7",
         "text": [
          "user7: 7",
          "user7: 6",
          "user7: 8",
          "user7: 5"
         ],
         "type": "scatter",
         "x": [
          800,
          900,
          1000,
          1100
         ],
         "y": [
          7,
          6,
          8,
          5
         ]
        },
        {
         "hoverinfo": "text",
         "line": {
          "color": "#225ea5",
          "width": 2
         },
         "marker": {
          "size": 8
         },
         "mode": "lines+markers",
         "name": "user8",
         "text": [
          "user8: 4",
          "user8: 5",
          "user8: 6",
          "user8: 8"
         ],
         "type": "scatter",
         "x": [
          800,
          900,
          1000,
          1100
         ],
         "y": [
          4,
          5,
          6,
          8
         ]
        },
        {
         "hoverinfo": "text",
         "line": {
          "color": "#d66b5c",
          "width": 2
         },
         "marker": {
          "size": 8
         },
         "mode": "lines+markers",
         "name": "user9",
         "text": [
          "user9: 6",
          "user9: 4",
          "user9: 3",
          "user9: 7"
         ],
         "type": "scatter",
         "x": [
          800,
          900,
          1000,
          1100
         ],
         "y": [
          6,
          4,
          3,
          7
         ]
        },
        {
         "hoverinfo": "text",
         "line": {
          "color": "#d6933a",
          "width": 2
         },
         "marker": {
          "size": 8
         },
         "mode": "lines+markers",
         "name": "user10",
         "text": [
          "user10: 5",
          "user10: 6",
          "user10: 4",
          "user10: 5"
         ],
         "type": "scatter",
         "x": [
          800,
          900,
          1000,
          1100
         ],
         "y": [
          5,
          6,
          4,
          5
         ]
        }
       ],
       "layout": {
        "legend": {
         "title": {
          "text": "Users"
         }
        },
        "plot_bgcolor": "#f9f9f9",
        "template": {
         "data": {
          "candlestick": [
           {
            "decreasing": {
             "line": {
              "color": "#000033"
             }
            },
            "increasing": {
             "line": {
              "color": "#000032"
             }
            },
            "type": "candlestick"
           }
          ],
          "contour": [
           {
            "colorscale": [
             [
              0,
              "#000011"
             ],
             [
              0.1111111111111111,
              "#000012"
             ],
             [
              0.2222222222222222,
              "#000013"
             ],
             [
              0.3333333333333333,
              "#000014"
             ],
             [
              0.4444444444444444,
              "#000015"
             ],
             [
              0.5555555555555556,
              "#000016"
             ],
             [
              0.6666666666666666,
              "#000017"
             ],
             [
              0.7777777777777778,
              "#000018"
             ],
             [
              0.8888888888888888,
              "#000019"
             ],
             [
              1,
              "#000020"
             ]
            ],
            "type": "contour"
           }
          ],
          "contourcarpet": [
           {
            "colorscale": [
             [
              0,
              "#000011"
             ],
             [
              0.1111111111111111,
              "#000012"
             ],
             [
              0.2222222222222222,
              "#000013"
             ],
             [
              0.3333333333333333,
              "#000014"
             ],
             [
              0.4444444444444444,
              "#000015"
             ],
             [
              0.5555555555555556,
              "#000016"
             ],
             [
              0.6666666666666666,
              "#000017"
             ],
             [
              0.7777777777777778,
              "#000018"
             ],
             [
              0.8888888888888888,
              "#000019"
             ],
             [
              1,
              "#000020"
             ]
            ],
            "type": "contourcarpet"
           }
          ],
          "heatmap": [
           {
            "colorscale": [
             [
              0,
              "#000011"
             ],
             [
              0.1111111111111111,
              "#000012"
             ],
             [
              0.2222222222222222,
              "#000013"
             ],
             [
              0.3333333333333333,
              "#000014"
             ],
             [
              0.4444444444444444,
              "#000015"
             ],
             [
              0.5555555555555556,
              "#000016"
             ],
             [
              0.6666666666666666,
              "#000017"
             ],
             [
              0.7777777777777778,
              "#000018"
             ],
             [
              0.8888888888888888,
              "#000019"
             ],
             [
              1,
              "#000020"
             ]
            ],
            "type": "heatmap"
           }
          ],
          "histogram2d": [
           {
            "colorscale": [
             [
              0,
              "#000011"
             ],
             [
              0.1111111111111111,
              "#000012"
             ],
             [
              0.2222222222222222,
              "#000013"
             ],
             [
              0.3333333333333333,
              "#000014"
             ],
             [
              0.4444444444444444,
              "#000015"
             ],
             [
              0.5555555555555556,
              "#000016"
             ],
             [
              0.6666666666666666,
              "#000017"
             ],
             [
              0.7777777777777778,
              "#000018"
             ],
             [
              0.8888888888888888,
              "#000019"
             ],
             [
              1,
              "#000020"
             ]
            ],
            "type": "histogram2d"
           }
          ],
          "icicle": [
           {
            "textfont": {
             "color": "white"
            },
            "type": "icicle"
           }
          ],
          "sankey": [
           {
            "textfont": {
             "color": "#000036"
            },
            "type": "sankey"
           }
          ],
          "scatter": [
           {
            "marker": {
             "line": {
              "width": 0
             }
            },
            "type": "scatter"
           }
          ],
          "table": [
           {
            "cells": {
             "fill": {
              "color": "#000038"
             },
             "font": {
              "color": "#000037"
             },
             "line": {
              "color": "#000039"
             }
            },
            "header": {
             "fill": {
              "color": "#000040"
             },
             "font": {
              "color": "#000036"
             },
             "line": {
              "color": "#000039"
             }
            },
            "type": "table"
           }
          ],
          "waterfall": [
           {
            "connector": {
             "line": {
              "color": "#000036",
              "width": 2
             }
            },
            "decreasing": {
             "marker": {
              "color": "#000033"
             }
            },
            "increasing": {
             "marker": {
              "color": "#000032"
             }
            },
            "totals": {
             "marker": {
              "color": "#000034"
             }
            },
            "type": "waterfall"
           }
          ]
         },
         "layout": {
          "coloraxis": {
           "colorscale": [
            [
             0,
             "#000011"
            ],
            [
             0.1111111111111111,
             "#000012"
            ],
            [
             0.2222222222222222,
             "#000013"
            ],
            [
             0.3333333333333333,
             "#000014"
            ],
            [
             0.4444444444444444,
             "#000015"
            ],
            [
             0.5555555555555556,
             "#000016"
            ],
            [
             0.6666666666666666,
             "#000017"
            ],
            [
             0.7777777777777778,
             "#000018"
            ],
            [
             0.8888888888888888,
             "#000019"
            ],
            [
             1,
             "#000020"
            ]
           ]
          },
          "colorscale": {
           "diverging": [
            [
             0,
             "#000021"
            ],
            [
             0.1,
             "#000022"
            ],
            [
             0.2,
             "#000023"
            ],
            [
             0.3,
             "#000024"
            ],
            [
             0.4,
             "#000025"
            ],
            [
             0.5,
             "#000026"
            ],
            [
             0.6,
             "#000027"
            ],
            [
             0.7,
             "#000028"
            ],
            [
             0.8,
             "#000029"
            ],
            [
             0.9,
             "#000030"
            ],
            [
             1,
             "#000031"
            ]
           ],
           "sequential": [
            [
             0,
             "#000011"
            ],
            [
             0.1111111111111111,
             "#000012"
            ],
            [
             0.2222222222222222,
             "#000013"
            ],
            [
             0.3333333333333333,
             "#000014"
            ],
            [
             0.4444444444444444,
             "#000015"
            ],
            [
             0.5555555555555556,
             "#000016"
            ],
            [
             0.6666666666666666,
             "#000017"
            ],
            [
             0.7777777777777778,
             "#000018"
            ],
            [
             0.8888888888888888,
             "#000019"
            ],
            [
             1,
             "#000020"
            ]
           ],
           "sequentialminus": [
            [
             0,
             "#000011"
            ],
            [
             0.1111111111111111,
             "#000012"
            ],
            [
             0.2222222222222222,
             "#000013"
            ],
            [
             0.3333333333333333,
             "#000014"
            ],
            [
             0.4444444444444444,
             "#000015"
            ],
            [
             0.5555555555555556,
             "#000016"
            ],
            [
             0.6666666666666666,
             "#000017"
            ],
            [
             0.7777777777777778,
             "#000018"
            ],
            [
             0.8888888888888888,
             "#000019"
            ],
            [
             1,
             "#000020"
            ]
           ]
          },
          "colorway": [
           "#000001",
           "#000002",
           "#000003",
           "#000004",
           "#000005",
           "#000006",
           "#000007",
           "#000008",
           "#000009",
           "#000010"
          ]
         }
        },
        "title": {
         "text": "Problems Solved by Users at Different Difficulty Levels"
        },
        "xaxis": {
         "gridcolor": "lightgrey",
         "showgrid": true,
         "title": {
          "text": "Difficulty Level"
         }
        },
        "yaxis": {
         "gridcolor": "lightgrey",
         "showgrid": true,
         "title": {
          "text": "Number of Problems Solved"
         }
        }
       }
      }
     },
     "metadata": {},
     "output_type": "display_data"
    }
   ],
   "source": [
    "import plotly.graph_objects as go\n",
    "import random\n",
    "\n",
    "# Function to generate a random hex color\n",
    "\n",
    "\n",
    "def random_color():\n",
    "    return f'#{random.randint(0, 0xFFFFFF):06x}'\n",
    "\n",
    "\n",
    "# Sample data for 10 users\n",
    "data = {\n",
    "    \"user1\": {800: 7, 900: 4, 1000: 3, 1100: 5},\n",
    "    \"user2\": {800: 6, 900: 5, 1000: 7, 1100: 2},\n",
    "    \"user3\": {800: 4, 900: 6, 1000: 5, 1100: 8},\n",
    "    \"user4\": {800: 3, 900: 4, 1000: 5, 1100: 7},\n",
    "    \"user5\": {800: 5, 900: 3, 1000: 6, 1100: 6},\n",
    "    \"user6\": {800: 6, 900: 7, 1000: 4, 1100: 3},\n",
    "    \"user7\": {800: 7, 900: 6, 1000: 8, 1100: 5},\n",
    "    \"user8\": {800: 4, 900: 5, 1000: 6, 1100: 8},\n",
    "    \"user9\": {800: 6, 900: 4, 1000: 3, 1100: 7},\n",
    "    \"user10\": {800: 5, 900: 6, 1000: 4, 1100: 5}\n",
    "}\n",
    "\n",
    "# Prepare the figure\n",
    "fig = go.Figure()\n",
    "\n",
    "# Loop through each user and add a line trace with a random color\n",
    "for user in data:\n",
    "    problems = data[user]\n",
    "    difficulties = list(problems.keys())  # X-axis values (difficulty levels)\n",
    "    num_solved = list(problems.values())  # Y-axis values (problems solved)\n",
    "\n",
    "    # Generate a random color for the user\n",
    "    color = random_color()\n",
    "\n",
    "    # Add line trace for each user\n",
    "    fig.add_trace(go.Scatter(\n",
    "        x=difficulties,\n",
    "        y=num_solved,\n",
    "        mode='lines+markers',  # Line and markers for data points\n",
    "        name=user,\n",
    "        text=[f\"{user}: {num}\" for num in num_solved],\n",
    "        hoverinfo=\"text\",  # Hover to show the user and number of problems solved\n",
    "        line=dict(color=color, width=2),  # Assign the randomly generated color\n",
    "        marker=dict(size=8)\n",
    "    ))\n",
    "\n",
    "# Update layout for better visualization\n",
    "fig.update_layout(\n",
    "    title=\"Problems Solved by Users at Different Difficulty Levels\",\n",
    "    xaxis_title=\"Difficulty Level\",\n",
    "    yaxis_title=\"Number of Problems Solved\",\n",
    "    plot_bgcolor=\"#f9f9f9\",  # Light background color\n",
    "    xaxis=dict(showgrid=True, gridcolor='lightgrey'),\n",
    "    yaxis=dict(showgrid=True, gridcolor='lightgrey'),\n",
    "    legend_title=\"Users\",  # Title for legend\n",
    ")\n",
    "\n",
    "# Show the plot in Streamlit\n",
    "fig.show()"
   ]
  },
  {
   "cell_type": "code",
   "execution_count": 40,
   "metadata": {},
   "outputs": [
    {
     "ename": "AttributeError",
     "evalue": "'Index' object has no attribute 'apply'",
     "output_type": "error",
     "traceback": [
      "\u001b[1;31m---------------------------------------------------------------------------\u001b[0m",
      "\u001b[1;31mAttributeError\u001b[0m                            Traceback (most recent call last)",
      "Cell \u001b[1;32mIn[40], line 36\u001b[0m\n\u001b[0;32m     32\u001b[0m   \u001b[38;5;28;01mreturn\u001b[39;00m status\n\u001b[0;32m     35\u001b[0m \u001b[38;5;66;03m# Apply the function to each row in the DataFrame and create a new column\u001b[39;00m\n\u001b[1;32m---> 36\u001b[0m df[\u001b[38;5;124m'\u001b[39m\u001b[38;5;124mUser Status\u001b[39m\u001b[38;5;124m'\u001b[39m] \u001b[38;5;241m=\u001b[39m \u001b[43mdf\u001b[49m\u001b[38;5;241;43m.\u001b[39;49m\u001b[43mindex\u001b[49m\u001b[38;5;241;43m.\u001b[39;49m\u001b[43mapply\u001b[49m(get_user_status)\n\u001b[0;32m     38\u001b[0m \u001b[38;5;66;03m# Display the updated DataFrame\u001b[39;00m\n\u001b[0;32m     39\u001b[0m df\n",
      "\u001b[1;31mAttributeError\u001b[0m: 'Index' object has no attribute 'apply'"
     ]
    }
   ],
   "source": [
    "import pandas as pd\n",
    "from io import StringIO\n",
    "\n",
    "# Existing data as a CSV-like string\n",
    "data = \"\"\"name,rating,tags\n",
    "1719/A,Chip Game,800,\"games,math\"\n",
    "149/A,Business trip,900,\"greedy,implementation,sortings\"\n",
    "1283/B,Candies Division,900,math\n",
    "460/A,Vasya and Socks,900,\"brute force,implementation,math\"\n",
    "199/A,Hexadecimal's theorem,900,\"brute force,constructive algorithms,implementation,number theory\"\n",
    "1291/A,Even But Not Even,900,\"greedy,math,strings\"\n",
    "275/A,Lights Out,900,implementation\"\"\"\n",
    "\n",
    "# Using StringIO to create a DataFrame\n",
    "df = pd.read_csv(StringIO(data))\n",
    "\n",
    "# User data dictionary\n",
    "user_status = {\n",
    "    'user': {'1719/A': True, '149/A': False},\n",
    "    'user1': {'1719/A': True, '149/A': True}\n",
    "}\n",
    "\n",
    "# Function to create user status for each problem\n",
    "\n",
    "\n",
    "def get_user_status(problem_id):\n",
    "  print(problem_id)\n",
    "  status = {}\n",
    "  for user, problems in user_status.items():\n",
    "      if problem_id in problems:\n",
    "          status[user] = problems[problem_id]\n",
    "  return status\n",
    "\n",
    "\n",
    "# Apply the function to each row in the DataFrame and create a new column\n",
    "df['User Status'] = df.index.apply(get_user_status)\n",
    "\n",
    "# Display the updated DataFrame\n",
    "df"
   ]
  },
  {
   "cell_type": "code",
   "execution_count": 43,
   "metadata": {},
   "outputs": [],
   "source": [
    "with open('problems.json', 'r') as f:\n",
    "    pb = json.load(f)\n",
    "    pbdf = pd.DataFrame.from_dict(pb, orient='index')\n",
    "pbdf\n",
    "with open('users.json', 'r') as f:\n",
    "    usersf = json.load(f)\n",
    "me = usersf['me']\n",
    "users = usersf['users']"
   ]
  },
  {
   "cell_type": "code",
   "execution_count": 68,
   "metadata": {},
   "outputs": [
    {
     "data": {
      "text/plain": [
       "{'7yeshwanth': {'name': 'Yeshwanth',\n",
       "  'problems': {'1719/A': True,\n",
       "   '149/A': True,\n",
       "   '1283/B': True,\n",
       "   '460/A': True,\n",
       "   '199/A': True,\n",
       "   '1291/A': True,\n",
       "   '275/A': True,\n",
       "   '474/A': True,\n",
       "   '205/A': True,\n",
       "   '556/A': True,\n",
       "   '1238/A': True,\n",
       "   '26/A': False,\n",
       "   '1213/A': True,\n",
       "   '1216/B': True,\n",
       "   '1095/B': True,\n",
       "   '439/A': True,\n",
       "   '1141/B': True,\n",
       "   '746/B': True,\n",
       "   '1183/B': True,\n",
       "   '1248/B': True,\n",
       "   '501/A': True,\n",
       "   '1509/A': True,\n",
       "   '1623/A': True,\n",
       "   '1551/B1': True,\n",
       "   '1519/B': True,\n",
       "   '1472/A': True,\n",
       "   '1526/A': True,\n",
       "   '1514/A': True,\n",
       "   '1611/A': True,\n",
       "   '1619/B': True,\n",
       "   '1539/B': False,\n",
       "   '1607/A': True,\n",
       "   '1621/A': True,\n",
       "   '1616/A': False,\n",
       "   '1569/A': True,\n",
       "   '1593/A': True,\n",
       "   '1632/A': True,\n",
       "   '1631/A': True,\n",
       "   '1619/A': True,\n",
       "   '1530/A': True,\n",
       "   '1633/A': True,\n",
       "   '1633/B': True,\n",
       "   '1618/A': True,\n",
       "   '1594/A': True,\n",
       "   '1615/A': True,\n",
       "   '1574/A': True,\n",
       "   '1562/A': True,\n",
       "   '1605/A': True,\n",
       "   '1506/A': True,\n",
       "   '1473/A': True,\n",
       "   '1604/A': True,\n",
       "   '1517/A': True,\n",
       "   '1611/B': False,\n",
       "   '1462/A': True,\n",
       "   '1618/B': True,\n",
       "   '1516/A': True,\n",
       "   '1592/A': True,\n",
       "   '1598/A': True,\n",
       "   '1515/A': True,\n",
       "   '1617/A': True,\n",
       "   '1512/B': True,\n",
       "   '1454/A': True,\n",
       "   '1480/A': True,\n",
       "   '1481/A': True,\n",
       "   '1573/A': True,\n",
       "   '1810/B': True,\n",
       "   '1478/A': True,\n",
       "   '1497/A': True,\n",
       "   '1810/A': False,\n",
       "   '1807/A': True,\n",
       "   '1790/A': True,\n",
       "   '1774/A': True,\n",
       "   '1829/B': True,\n",
       "   '1772/B': True,\n",
       "   '1622/A': True,\n",
       "   '1579/A': True,\n",
       "   '1626/A': True,\n",
       "   '1549/B': True,\n",
       "   '1547/B': True,\n",
       "   '1624/A': True,\n",
       "   '1512/A': True,\n",
       "   '1560/B': True,\n",
       "   '1529/A': False,\n",
       "   '1527/A': True,\n",
       "   '1552/A': True,\n",
       "   '1602/A': True,\n",
       "   '1409/A': True,\n",
       "   '1547/A': True,\n",
       "   '1498/A': True,\n",
       "   '1399/A': True,\n",
       "   '1541/A': True,\n",
       "   '1549/A': True,\n",
       "   '1554/A': True,\n",
       "   '1742/C': True,\n",
       "   '1550/A': True,\n",
       "   '1747/B': False,\n",
       "   '1520/A': True,\n",
       "   '231/A': True,\n",
       "   '1772/A': True,\n",
       "   '1760/C': True,\n",
       "   '1760/B': True,\n",
       "   '1914/B': True,\n",
       "   '1914/A': True,\n",
       "   '1902/A': True,\n",
       "   '1736/A': True,\n",
       "   '1692/C': True,\n",
       "   '1560/A': True,\n",
       "   '71/A': True,\n",
       "   '1886/A': True,\n",
       "   '96/A': True,\n",
       "   '1841/B': False,\n",
       "   '1728/A': True,\n",
       "   '1703/C': True,\n",
       "   '1504/A': True,\n",
       "   '1878/C': True,\n",
       "   '1878/B': True,\n",
       "   '1878/A': True,\n",
       "   '1759/A': True,\n",
       "   '1760/A': True,\n",
       "   '1731/A': True,\n",
       "   '1674/B': True,\n",
       "   '1676/B': True,\n",
       "   '1433/A': True,\n",
       "   '1882/A': True,\n",
       "   '1791/B': True,\n",
       "   '1791/A': True,\n",
       "   '1725/A': True,\n",
       "   '1692/B': True,\n",
       "   '1722/A': True,\n",
       "   '1557/A': True,\n",
       "   '894/A': True,\n",
       "   '1748/A': True,\n",
       "   '1538/A': True,\n",
       "   '702/A': True,\n",
       "   '1472/B': True,\n",
       "   '996/A': True,\n",
       "   '1739/A': True,\n",
       "   '1535/A': True,\n",
       "   '1553/A': True,\n",
       "   '1690/A': True,\n",
       "   '1712/B': True,\n",
       "   '1690/C': True,\n",
       "   '1703/B': True,\n",
       "   '1690/B': True,\n",
       "   '1692/A': True,\n",
       "   '1703/A': True,\n",
       "   '1721/A': True,\n",
       "   '1722/C': True,\n",
       "   '1741/A': True,\n",
       "   '1741/B': True,\n",
       "   '1742/A': True,\n",
       "   '1742/B': True,\n",
       "   '1743/A': True,\n",
       "   '1744/A': True,\n",
       "   '1722/B': True,\n",
       "   '1744/B': True,\n",
       "   '1743/B': True,\n",
       "   '4/A': True,\n",
       "   '1746/A': True,\n",
       "   '1746/B': True,\n",
       "   '1747/A': True,\n",
       "   '1749/A': True,\n",
       "   '1754/A': True,\n",
       "   '1754/B': True,\n",
       "   '1542/A': True,\n",
       "   '1551/A': True,\n",
       "   '1537/A': True,\n",
       "   '1857/A': True,\n",
       "   '1856/A': True,\n",
       "   '1856/B': True,\n",
       "   '1855/B': True,\n",
       "   '1855/A': True,\n",
       "   '1851/B': True,\n",
       "   '1850/D': True,\n",
       "   '1844/B': True,\n",
       "   '282/A': True,\n",
       "   '1850/C': True,\n",
       "   '1850/B': True,\n",
       "   '1850/A': True,\n",
       "   '1682/A': True,\n",
       "   '1520/B': True,\n",
       "   '1832/A': True,\n",
       "   '1844/A': True,\n",
       "   '1608/A': True,\n",
       "   '1750/A': True,\n",
       "   '1750/B': True,\n",
       "   '1846/C': False,\n",
       "   '1846/B': True,\n",
       "   '1846/A': True,\n",
       "   '1829/A': True,\n",
       "   '1836/A': False,\n",
       "   '1841/A': True},\n",
       "  'today': {},\n",
       "  'ratings': [{'contestId': 1841,\n",
       "    'contestName': 'Educational Codeforces Round 150 (Rated for Div. 2)',\n",
       "    'handle': '7yeshwanth',\n",
       "    'rank': 10919,\n",
       "    'ratingUpdateTimeSeconds': 1686587700,\n",
       "    'oldRating': 0,\n",
       "    'newRating': 392},\n",
       "   {'contestId': 1836,\n",
       "    'contestName': 'Codeforces Round 880 (Div. 2)',\n",
       "    'handle': '7yeshwanth',\n",
       "    'rank': 10563,\n",
       "    'ratingUpdateTimeSeconds': 1687106100,\n",
       "    'oldRating': 392,\n",
       "    'newRating': 607},\n",
       "   {'contestId': 1846,\n",
       "    'contestName': 'Codeforces Round 883 (Div. 3)',\n",
       "    'handle': '7yeshwanth',\n",
       "    'rank': 9962,\n",
       "    'ratingUpdateTimeSeconds': 1688748600,\n",
       "    'oldRating': 607,\n",
       "    'newRating': 816},\n",
       "   {'contestId': 1844,\n",
       "    'contestName': 'Codeforces Round 884 (Div. 1 + Div. 2)',\n",
       "    'handle': '7yeshwanth',\n",
       "    'rank': 11832,\n",
       "    'ratingUpdateTimeSeconds': 1689096900,\n",
       "    'oldRating': 816,\n",
       "    'newRating': 902},\n",
       "   {'contestId': 1850,\n",
       "    'contestName': 'Codeforces Round 886 (Div. 4)',\n",
       "    'handle': '7yeshwanth',\n",
       "    'rank': 13966,\n",
       "    'ratingUpdateTimeSeconds': 1689957300,\n",
       "    'oldRating': 902,\n",
       "    'newRating': 947},\n",
       "   {'contestId': 1855,\n",
       "    'contestName': 'Codeforces Round 889 (Div. 2)',\n",
       "    'handle': '7yeshwanth',\n",
       "    'rank': 6829,\n",
       "    'ratingUpdateTimeSeconds': 1690650300,\n",
       "    'oldRating': 947,\n",
       "    'newRating': 1056},\n",
       "   {'contestId': 1856,\n",
       "    'contestName': 'Codeforces Round 890 (Div. 2) supported by Constructor Institute',\n",
       "    'handle': '7yeshwanth',\n",
       "    'rank': 10546,\n",
       "    'ratingUpdateTimeSeconds': 1691253300,\n",
       "    'oldRating': 1056,\n",
       "    'newRating': 1032},\n",
       "   {'contestId': 1857,\n",
       "    'contestName': 'Codeforces Round 891 (Div. 3)',\n",
       "    'handle': '7yeshwanth',\n",
       "    'rank': 15205,\n",
       "    'ratingUpdateTimeSeconds': 1691427000,\n",
       "    'oldRating': 1032,\n",
       "    'newRating': 989},\n",
       "   {'contestId': 1882,\n",
       "    'contestName': 'Codeforces Round 899 (Div. 2)',\n",
       "    'handle': '7yeshwanth',\n",
       "    'rank': 8571,\n",
       "    'ratingUpdateTimeSeconds': 1695659700,\n",
       "    'oldRating': 989,\n",
       "    'newRating': 1005},\n",
       "   {'contestId': 1878,\n",
       "    'contestName': 'Codeforces Round 900 (Div. 3)',\n",
       "    'handle': '7yeshwanth',\n",
       "    'rank': 12175,\n",
       "    'ratingUpdateTimeSeconds': 1695747000,\n",
       "    'oldRating': 1005,\n",
       "    'newRating': 996},\n",
       "   {'contestId': 1886,\n",
       "    'contestName': 'Educational Codeforces Round 156 (Rated for Div. 2)',\n",
       "    'handle': '7yeshwanth',\n",
       "    'rank': 9624,\n",
       "    'ratingUpdateTimeSeconds': 1696869300,\n",
       "    'oldRating': 996,\n",
       "    'newRating': 984}],\n",
       "  'rating': 984,\n",
       "  'maxRating': 1056,\n",
       "  'rank': 'newbie',\n",
       "  'maxRank': 'newbie',\n",
       "  'friends': 2,\n",
       "  'photo': 'https://userpic.codeforces.org/no-title.jpg',\n",
       "  'lastOnline': '06-10-2024 12:24:08'},\n",
       " 'Yeshwanth.': {'name': 'my old .',\n",
       "  'problems': {'1741/B': True,\n",
       "   '1741/A': True,\n",
       "   '1736/A': True,\n",
       "   '1739/B': False,\n",
       "   '1739/A': True,\n",
       "   '1725/A': False,\n",
       "   '1717/A': False,\n",
       "   '1722/B': True,\n",
       "   '1722/C': True,\n",
       "   '1722/A': False,\n",
       "   '1721/A': True,\n",
       "   '1537/A': False,\n",
       "   '1542/A': True,\n",
       "   '1551/A': True,\n",
       "   '1719/A': True,\n",
       "   '1703/C': False,\n",
       "   '1703/B': True,\n",
       "   '1703/A': True,\n",
       "   '1712/B': True,\n",
       "   '1692/C': True,\n",
       "   '1692/B': False,\n",
       "   '1692/A': True,\n",
       "   '1690/C': True,\n",
       "   '1690/B': True,\n",
       "   '1690/A': False},\n",
       "  'today': {},\n",
       "  'ratings': [{'contestId': 1692,\n",
       "    'contestName': 'Codeforces Round 799 (Div. 4)',\n",
       "    'handle': 'Yeshwanth.',\n",
       "    'rank': 18408,\n",
       "    'ratingUpdateTimeSeconds': 1655225400,\n",
       "    'oldRating': 0,\n",
       "    'newRating': 357},\n",
       "   {'contestId': 1719,\n",
       "    'contestName': 'Codeforces Round 814 (Div. 2)',\n",
       "    'handle': 'Yeshwanth.',\n",
       "    'rank': 12336,\n",
       "    'ratingUpdateTimeSeconds': 1660667700,\n",
       "    'oldRating': 357,\n",
       "    'newRating': 596},\n",
       "   {'contestId': 1721,\n",
       "    'contestName': 'Educational Codeforces Round 134 (Rated for Div. 2)',\n",
       "    'handle': 'Yeshwanth.',\n",
       "    'rank': 11091,\n",
       "    'ratingUpdateTimeSeconds': 1661618100,\n",
       "    'oldRating': 596,\n",
       "    'newRating': 764},\n",
       "   {'contestId': 1722,\n",
       "    'contestName': 'Codeforces Round 817 (Div. 4)',\n",
       "    'handle': 'Yeshwanth.',\n",
       "    'rank': 15406,\n",
       "    'ratingUpdateTimeSeconds': 1661879100,\n",
       "    'oldRating': 764,\n",
       "    'newRating': 827},\n",
       "   {'contestId': 1717,\n",
       "    'contestName': 'Codeforces Round 818 (Div. 2)',\n",
       "    'handle': 'Yeshwanth.',\n",
       "    'rank': 9248,\n",
       "    'ratingUpdateTimeSeconds': 1662136500,\n",
       "    'oldRating': 827,\n",
       "    'newRating': 821},\n",
       "   {'contestId': 1739,\n",
       "    'contestName': 'Educational Codeforces Round 136 (Rated for Div. 2)',\n",
       "    'handle': 'Yeshwanth.',\n",
       "    'rank': 10549,\n",
       "    'ratingUpdateTimeSeconds': 1664469300,\n",
       "    'oldRating': 821,\n",
       "    'newRating': 842},\n",
       "   {'contestId': 1736,\n",
       "    'contestName': 'Codeforces Round 825 (Div. 2)',\n",
       "    'handle': 'Yeshwanth.',\n",
       "    'rank': 11117,\n",
       "    'ratingUpdateTimeSeconds': 1665419700,\n",
       "    'oldRating': 842,\n",
       "    'newRating': 820},\n",
       "   {'contestId': 1741,\n",
       "    'contestName': 'Codeforces Round 826 (Div. 3)',\n",
       "    'handle': 'Yeshwanth.',\n",
       "    'rank': 11353,\n",
       "    'ratingUpdateTimeSeconds': 1665507000,\n",
       "    'oldRating': 820,\n",
       "    'newRating': 824}],\n",
       "  'rating': 824,\n",
       "  'maxRating': 842,\n",
       "  'rank': 'newbie',\n",
       "  'maxRank': 'newbie',\n",
       "  'friends': 2,\n",
       "  'photo': 'https://userpic.codeforces.org/no-title.jpg',\n",
       "  'lastOnline': '13-11-2022 02:24:39'},\n",
       " 'yeshwanth_7': {'name': 'my old 7',\n",
       "  'problems': {'1829/A': True,\n",
       "   '1832/A': False,\n",
       "   '1554/A': True,\n",
       "   '405/A': True,\n",
       "   '133/A': True,\n",
       "   '160/A': True,\n",
       "   '318/A': True,\n",
       "   '96/A': True,\n",
       "   '1527/A': True,\n",
       "   '1538/B': True,\n",
       "   '1553/A': True,\n",
       "   '1541/A': True,\n",
       "   '1520/B': True,\n",
       "   '1549/A': True,\n",
       "   '1550/A': True,\n",
       "   '1538/A': True,\n",
       "   '1557/A': True,\n",
       "   '1520/A': True,\n",
       "   '1560/A': True,\n",
       "   '1535/A': True,\n",
       "   '1537/A': True,\n",
       "   '1542/A': True,\n",
       "   '1551/A': True,\n",
       "   '1750/B': True,\n",
       "   '1750/A': True,\n",
       "   '1747/B': True,\n",
       "   '1747/A': True,\n",
       "   '1754/B': True,\n",
       "   '1754/A': True,\n",
       "   '1749/B': False,\n",
       "   '1749/A': True,\n",
       "   '1743/C': False,\n",
       "   '1743/B': True,\n",
       "   '1743/A': True,\n",
       "   '1744/C': False,\n",
       "   '1744/B': True,\n",
       "   '1744/A': True,\n",
       "   '1746/C': False,\n",
       "   '1746/B': True,\n",
       "   '1746/A': True,\n",
       "   '1742/C': False,\n",
       "   '1742/E': False,\n",
       "   '1742/D': False,\n",
       "   '1742/B': True,\n",
       "   '1742/A': True},\n",
       "  'today': {},\n",
       "  'ratings': [{'contestId': 1742,\n",
       "    'contestName': 'Codeforces Round 827 (Div. 4)',\n",
       "    'handle': 'yeshwanth_7',\n",
       "    'rank': 13567,\n",
       "    'ratingUpdateTimeSeconds': 1665680400,\n",
       "    'oldRating': 0,\n",
       "    'newRating': 387},\n",
       "   {'contestId': 1746,\n",
       "    'contestName': 'Codeforces Global Round 23',\n",
       "    'handle': 'yeshwanth_7',\n",
       "    'rank': 6305,\n",
       "    'ratingUpdateTimeSeconds': 1665852600,\n",
       "    'oldRating': 387,\n",
       "    'newRating': 698},\n",
       "   {'contestId': 1744,\n",
       "    'contestName': 'Codeforces Round  828 (Div. 3)',\n",
       "    'handle': 'yeshwanth_7',\n",
       "    'rank': 10068,\n",
       "    'ratingUpdateTimeSeconds': 1665939000,\n",
       "    'oldRating': 698,\n",
       "    'newRating': 861},\n",
       "   {'contestId': 1743,\n",
       "    'contestName': 'Educational Codeforces Round 137 (Rated for Div. 2)',\n",
       "    'handle': 'yeshwanth_7',\n",
       "    'rank': 10067,\n",
       "    'ratingUpdateTimeSeconds': 1666024500,\n",
       "    'oldRating': 861,\n",
       "    'newRating': 947},\n",
       "   {'contestId': 1749,\n",
       "    'contestName': 'Educational Codeforces Round 138 (Rated for Div. 2)',\n",
       "    'handle': 'yeshwanth_7',\n",
       "    'rank': 10226,\n",
       "    'ratingUpdateTimeSeconds': 1666283700,\n",
       "    'oldRating': 947,\n",
       "    'newRating': 970},\n",
       "   {'contestId': 1754,\n",
       "    'contestName': 'Codeforces Round 829 (Div. 2)',\n",
       "    'handle': 'yeshwanth_7',\n",
       "    'rank': 6466,\n",
       "    'ratingUpdateTimeSeconds': 1666518600,\n",
       "    'oldRating': 970,\n",
       "    'newRating': 1004},\n",
       "   {'contestId': 1747,\n",
       "    'contestName': 'Codeforces Round 832 (Div. 2)',\n",
       "    'handle': 'yeshwanth_7',\n",
       "    'rank': 8420,\n",
       "    'ratingUpdateTimeSeconds': 1667579700,\n",
       "    'oldRating': 1004,\n",
       "    'newRating': 992},\n",
       "   {'contestId': 1750,\n",
       "    'contestName': 'CodeTON Round 3 (Div. 1 + Div. 2, Rated, Prizes!)',\n",
       "    'handle': 'yeshwanth_7',\n",
       "    'rank': 6546,\n",
       "    'ratingUpdateTimeSeconds': 1667754300,\n",
       "    'oldRating': 992,\n",
       "    'newRating': 999}],\n",
       "  'rating': 999,\n",
       "  'maxRating': 1004,\n",
       "  'rank': 'newbie',\n",
       "  'maxRank': 'newbie',\n",
       "  'friends': 1,\n",
       "  'photo': 'https://userpic.codeforces.org/2836106/title/1674d027ae21f0ca.jpg',\n",
       "  'lastOnline': '26-11-2023 15:34:52'}}"
      ]
     },
     "execution_count": 68,
     "metadata": {},
     "output_type": "execute_result"
    }
   ],
   "source": [
    "users"
   ]
  },
  {
   "cell_type": "code",
   "execution_count": 87,
   "metadata": {},
   "outputs": [],
   "source": [
    "def ff(x):\n",
    "  sol = []\n",
    "  usol = []\n",
    "  for ur, dt in users.items():\n",
    "    if x.name in dt['problems']:\n",
    "      if dt['problems'][x.name]:\n",
    "        sol.append(ur)\n",
    "      else:\n",
    "        usol.append(ur)\n",
    "    \n",
    "  return sol, usol"
   ]
  },
  {
   "cell_type": "code",
   "execution_count": 90,
   "metadata": {},
   "outputs": [
    {
     "ename": "ValueError",
     "evalue": "too many values to unpack (expected 2)",
     "output_type": "error",
     "traceback": [
      "\u001b[1;31m---------------------------------------------------------------------------\u001b[0m",
      "\u001b[1;31mValueError\u001b[0m                                Traceback (most recent call last)",
      "Cell \u001b[1;32mIn[90], line 1\u001b[0m\n\u001b[1;32m----> 1\u001b[0m pbdf[\u001b[38;5;124m'\u001b[39m\u001b[38;5;124msol\u001b[39m\u001b[38;5;124m'\u001b[39m], pbdf[\u001b[38;5;124m'\u001b[39m\u001b[38;5;124mup\u001b[39m\u001b[38;5;124m'\u001b[39m]  \u001b[38;5;241m=\u001b[39m pbdf\u001b[38;5;241m.\u001b[39mapply(ff, axis\u001b[38;5;241m=\u001b[39m\u001b[38;5;241m1\u001b[39m)\n",
      "\u001b[1;31mValueError\u001b[0m: too many values to unpack (expected 2)"
     ]
    }
   ],
   "source": [
    "pbdf['sol'], pbdf['up']  = pbdf.apply(ff, axis=1)"
   ]
  },
  {
   "cell_type": "code",
   "execution_count": 89,
   "metadata": {},
   "outputs": [
    {
     "data": {
      "text/html": [
       "<div>\n",
       "<style scoped>\n",
       "    .dataframe tbody tr th:only-of-type {\n",
       "        vertical-align: middle;\n",
       "    }\n",
       "\n",
       "    .dataframe tbody tr th {\n",
       "        vertical-align: top;\n",
       "    }\n",
       "\n",
       "    .dataframe thead th {\n",
       "        text-align: right;\n",
       "    }\n",
       "</style>\n",
       "<table border=\"1\" class=\"dataframe\">\n",
       "  <thead>\n",
       "    <tr style=\"text-align: right;\">\n",
       "      <th></th>\n",
       "      <th>name</th>\n",
       "      <th>rating</th>\n",
       "      <th>tags</th>\n",
       "      <th>status</th>\n",
       "    </tr>\n",
       "  </thead>\n",
       "  <tbody>\n",
       "    <tr>\n",
       "      <th>1719/A</th>\n",
       "      <td>Chip Game</td>\n",
       "      <td>800</td>\n",
       "      <td>[games, math]</td>\n",
       "      <td>([7yeshwanth, Yeshwanth.], [])</td>\n",
       "    </tr>\n",
       "    <tr>\n",
       "      <th>149/A</th>\n",
       "      <td>Business trip</td>\n",
       "      <td>900</td>\n",
       "      <td>[greedy, implementation, sortings]</td>\n",
       "      <td>([7yeshwanth], [])</td>\n",
       "    </tr>\n",
       "    <tr>\n",
       "      <th>1283/B</th>\n",
       "      <td>Candies Division</td>\n",
       "      <td>900</td>\n",
       "      <td>[math]</td>\n",
       "      <td>([7yeshwanth], [])</td>\n",
       "    </tr>\n",
       "    <tr>\n",
       "      <th>460/A</th>\n",
       "      <td>Vasya and Socks</td>\n",
       "      <td>900</td>\n",
       "      <td>[brute force, implementation, math]</td>\n",
       "      <td>([7yeshwanth], [])</td>\n",
       "    </tr>\n",
       "    <tr>\n",
       "      <th>199/A</th>\n",
       "      <td>Hexadecimal's theorem</td>\n",
       "      <td>900</td>\n",
       "      <td>[brute force, constructive algorithms, impleme...</td>\n",
       "      <td>([7yeshwanth], [])</td>\n",
       "    </tr>\n",
       "    <tr>\n",
       "      <th>...</th>\n",
       "      <td>...</td>\n",
       "      <td>...</td>\n",
       "      <td>...</td>\n",
       "      <td>...</td>\n",
       "    </tr>\n",
       "    <tr>\n",
       "      <th>1743/C</th>\n",
       "      <td>Save the Magazines</td>\n",
       "      <td>1100</td>\n",
       "      <td>[constructive algorithms, dp, greedy]</td>\n",
       "      <td>([], [yeshwanth_7])</td>\n",
       "    </tr>\n",
       "    <tr>\n",
       "      <th>1744/C</th>\n",
       "      <td>Traffic Light</td>\n",
       "      <td>1000</td>\n",
       "      <td>[binary search, implementation, two pointers]</td>\n",
       "      <td>([], [yeshwanth_7])</td>\n",
       "    </tr>\n",
       "    <tr>\n",
       "      <th>1746/C</th>\n",
       "      <td>Permutation Operations</td>\n",
       "      <td>1300</td>\n",
       "      <td>[constructive algorithms, greedy, implementati...</td>\n",
       "      <td>([], [yeshwanth_7])</td>\n",
       "    </tr>\n",
       "    <tr>\n",
       "      <th>1742/E</th>\n",
       "      <td>Scuza</td>\n",
       "      <td>1200</td>\n",
       "      <td>[binary search, greedy, math]</td>\n",
       "      <td>([], [yeshwanth_7])</td>\n",
       "    </tr>\n",
       "    <tr>\n",
       "      <th>1742/D</th>\n",
       "      <td>Coprime</td>\n",
       "      <td>1100</td>\n",
       "      <td>[brute force, greedy, number theory]</td>\n",
       "      <td>([], [yeshwanth_7])</td>\n",
       "    </tr>\n",
       "  </tbody>\n",
       "</table>\n",
       "<p>205 rows × 4 columns</p>\n",
       "</div>"
      ],
      "text/plain": [
       "                          name  rating  \\\n",
       "1719/A               Chip Game     800   \n",
       "149/A            Business trip     900   \n",
       "1283/B        Candies Division     900   \n",
       "460/A          Vasya and Socks     900   \n",
       "199/A    Hexadecimal's theorem     900   \n",
       "...                        ...     ...   \n",
       "1743/C      Save the Magazines    1100   \n",
       "1744/C           Traffic Light    1000   \n",
       "1746/C  Permutation Operations    1300   \n",
       "1742/E                   Scuza    1200   \n",
       "1742/D                 Coprime    1100   \n",
       "\n",
       "                                                     tags  \\\n",
       "1719/A                                      [games, math]   \n",
       "149/A                  [greedy, implementation, sortings]   \n",
       "1283/B                                             [math]   \n",
       "460/A                 [brute force, implementation, math]   \n",
       "199/A   [brute force, constructive algorithms, impleme...   \n",
       "...                                                   ...   \n",
       "1743/C              [constructive algorithms, dp, greedy]   \n",
       "1744/C      [binary search, implementation, two pointers]   \n",
       "1746/C  [constructive algorithms, greedy, implementati...   \n",
       "1742/E                      [binary search, greedy, math]   \n",
       "1742/D               [brute force, greedy, number theory]   \n",
       "\n",
       "                                status  \n",
       "1719/A  ([7yeshwanth, Yeshwanth.], [])  \n",
       "149/A               ([7yeshwanth], [])  \n",
       "1283/B              ([7yeshwanth], [])  \n",
       "460/A               ([7yeshwanth], [])  \n",
       "199/A               ([7yeshwanth], [])  \n",
       "...                                ...  \n",
       "1743/C             ([], [yeshwanth_7])  \n",
       "1744/C             ([], [yeshwanth_7])  \n",
       "1746/C             ([], [yeshwanth_7])  \n",
       "1742/E             ([], [yeshwanth_7])  \n",
       "1742/D             ([], [yeshwanth_7])  \n",
       "\n",
       "[205 rows x 4 columns]"
      ]
     },
     "execution_count": 89,
     "metadata": {},
     "output_type": "execute_result"
    }
   ],
   "source": [
    "pbdf"
   ]
  },
  {
   "cell_type": "code",
   "execution_count": 63,
   "metadata": {},
   "outputs": [
    {
     "data": {
      "text/html": [
       "<div>\n",
       "<style scoped>\n",
       "    .dataframe tbody tr th:only-of-type {\n",
       "        vertical-align: middle;\n",
       "    }\n",
       "\n",
       "    .dataframe tbody tr th {\n",
       "        vertical-align: top;\n",
       "    }\n",
       "\n",
       "    .dataframe thead th {\n",
       "        text-align: right;\n",
       "    }\n",
       "</style>\n",
       "<table border=\"1\" class=\"dataframe\">\n",
       "  <thead>\n",
       "    <tr style=\"text-align: right;\">\n",
       "      <th></th>\n",
       "      <th>name</th>\n",
       "      <th>rating</th>\n",
       "      <th>tags</th>\n",
       "    </tr>\n",
       "  </thead>\n",
       "  <tbody>\n",
       "    <tr>\n",
       "      <th>1719/A</th>\n",
       "      <td>Chip Game</td>\n",
       "      <td>800</td>\n",
       "      <td>[games, math]</td>\n",
       "    </tr>\n",
       "    <tr>\n",
       "      <th>149/A</th>\n",
       "      <td>Business trip</td>\n",
       "      <td>900</td>\n",
       "      <td>[greedy, implementation, sortings]</td>\n",
       "    </tr>\n",
       "    <tr>\n",
       "      <th>1283/B</th>\n",
       "      <td>Candies Division</td>\n",
       "      <td>900</td>\n",
       "      <td>[math]</td>\n",
       "    </tr>\n",
       "    <tr>\n",
       "      <th>460/A</th>\n",
       "      <td>Vasya and Socks</td>\n",
       "      <td>900</td>\n",
       "      <td>[brute force, implementation, math]</td>\n",
       "    </tr>\n",
       "    <tr>\n",
       "      <th>199/A</th>\n",
       "      <td>Hexadecimal's theorem</td>\n",
       "      <td>900</td>\n",
       "      <td>[brute force, constructive algorithms, impleme...</td>\n",
       "    </tr>\n",
       "    <tr>\n",
       "      <th>...</th>\n",
       "      <td>...</td>\n",
       "      <td>...</td>\n",
       "      <td>...</td>\n",
       "    </tr>\n",
       "    <tr>\n",
       "      <th>1743/C</th>\n",
       "      <td>Save the Magazines</td>\n",
       "      <td>1100</td>\n",
       "      <td>[constructive algorithms, dp, greedy]</td>\n",
       "    </tr>\n",
       "    <tr>\n",
       "      <th>1744/C</th>\n",
       "      <td>Traffic Light</td>\n",
       "      <td>1000</td>\n",
       "      <td>[binary search, implementation, two pointers]</td>\n",
       "    </tr>\n",
       "    <tr>\n",
       "      <th>1746/C</th>\n",
       "      <td>Permutation Operations</td>\n",
       "      <td>1300</td>\n",
       "      <td>[constructive algorithms, greedy, implementati...</td>\n",
       "    </tr>\n",
       "    <tr>\n",
       "      <th>1742/E</th>\n",
       "      <td>Scuza</td>\n",
       "      <td>1200</td>\n",
       "      <td>[binary search, greedy, math]</td>\n",
       "    </tr>\n",
       "    <tr>\n",
       "      <th>1742/D</th>\n",
       "      <td>Coprime</td>\n",
       "      <td>1100</td>\n",
       "      <td>[brute force, greedy, number theory]</td>\n",
       "    </tr>\n",
       "  </tbody>\n",
       "</table>\n",
       "<p>205 rows × 3 columns</p>\n",
       "</div>"
      ],
      "text/plain": [
       "                          name  rating  \\\n",
       "1719/A               Chip Game     800   \n",
       "149/A            Business trip     900   \n",
       "1283/B        Candies Division     900   \n",
       "460/A          Vasya and Socks     900   \n",
       "199/A    Hexadecimal's theorem     900   \n",
       "...                        ...     ...   \n",
       "1743/C      Save the Magazines    1100   \n",
       "1744/C           Traffic Light    1000   \n",
       "1746/C  Permutation Operations    1300   \n",
       "1742/E                   Scuza    1200   \n",
       "1742/D                 Coprime    1100   \n",
       "\n",
       "                                                     tags  \n",
       "1719/A                                      [games, math]  \n",
       "149/A                  [greedy, implementation, sortings]  \n",
       "1283/B                                             [math]  \n",
       "460/A                 [brute force, implementation, math]  \n",
       "199/A   [brute force, constructive algorithms, impleme...  \n",
       "...                                                   ...  \n",
       "1743/C              [constructive algorithms, dp, greedy]  \n",
       "1744/C      [binary search, implementation, two pointers]  \n",
       "1746/C  [constructive algorithms, greedy, implementati...  \n",
       "1742/E                      [binary search, greedy, math]  \n",
       "1742/D               [brute force, greedy, number theory]  \n",
       "\n",
       "[205 rows x 3 columns]"
      ]
     },
     "execution_count": 63,
     "metadata": {},
     "output_type": "execute_result"
    }
   ],
   "source": [
    "pbdf"
   ]
  }
 ],
 "metadata": {
  "kernelspec": {
   "display_name": "Python 3",
   "language": "python",
   "name": "python3"
  },
  "language_info": {
   "codemirror_mode": {
    "name": "ipython",
    "version": 3
   },
   "file_extension": ".py",
   "mimetype": "text/x-python",
   "name": "python",
   "nbconvert_exporter": "python",
   "pygments_lexer": "ipython3",
   "version": "3.12.4"
  }
 },
 "nbformat": 4,
 "nbformat_minor": 2
}
